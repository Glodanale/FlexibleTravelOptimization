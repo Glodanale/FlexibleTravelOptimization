{
 "cells": [
  {
   "cell_type": "code",
   "execution_count": 1,
   "metadata": {},
   "outputs": [],
   "source": [
    "import pandas as pd\n",
    "import ClusterMetrics"
   ]
  },
  {
   "cell_type": "code",
   "execution_count": 2,
   "metadata": {},
   "outputs": [],
   "source": [
    "def tablesVSBest(table):\n",
    "    accuracy, mutual_info, confusion_matrix = ClusterMetrics.relationMetrics(table, \"ld_08\")\n",
    "    new_row = {\"Tables\": f\"ld_08vs{table}\",\"Accuracy\": accuracy, \"Mutual_Info\": mutual_info}\n",
    "    #with pd.ExcelWriter('crosstabOfLD_08.xlsx', engine='openpyxl') as writer:\n",
    "    #    confusion_matrix.to_excel(writer, sheet_name=f\"ld_08vs{table}\")\n",
    "\n",
    "    return new_row, (f\"ld_08vs{table}\", confusion_matrix)"
   ]
  },
  {
   "cell_type": "code",
   "execution_count": 3,
   "metadata": {},
   "outputs": [],
   "source": [
    "results = []\n",
    "crosstabs = []"
   ]
  },
  {
   "cell_type": "code",
   "execution_count": 4,
   "metadata": {},
   "outputs": [],
   "source": [
    "row, ct = tablesVSBest(\"ld_07\")\n",
    "results.append(row)\n",
    "crosstabs.append(ct)"
   ]
  },
  {
   "cell_type": "code",
   "execution_count": 5,
   "metadata": {},
   "outputs": [],
   "source": [
    "row, ct = tablesVSBest(\"ld_10\")\n",
    "results.append(row)\n",
    "crosstabs.append(ct)"
   ]
  },
  {
   "cell_type": "code",
   "execution_count": 6,
   "metadata": {},
   "outputs": [],
   "source": [
    "row, ct = tablesVSBest(\"ld_11\")\n",
    "results.append(row)\n",
    "crosstabs.append(ct)"
   ]
  },
  {
   "cell_type": "code",
   "execution_count": 7,
   "metadata": {},
   "outputs": [],
   "source": [
    "row, ct = tablesVSBest(\"ld_13\")\n",
    "results.append(row)\n",
    "crosstabs.append(ct)"
   ]
  },
  {
   "cell_type": "code",
   "execution_count": 8,
   "metadata": {},
   "outputs": [],
   "source": [
    "row, ct = tablesVSBest(\"ld_14\")\n",
    "results.append(row)\n",
    "crosstabs.append(ct)"
   ]
  },
  {
   "cell_type": "code",
   "execution_count": 9,
   "metadata": {},
   "outputs": [],
   "source": [
    "row, ct = tablesVSBest(\"ld_16\")\n",
    "results.append(row)\n",
    "crosstabs.append(ct)"
   ]
  },
  {
   "cell_type": "code",
   "execution_count": 10,
   "metadata": {},
   "outputs": [],
   "source": [
    "row, ct = tablesVSBest(\"ld_17\")\n",
    "results.append(row)\n",
    "crosstabs.append(ct)"
   ]
  },
  {
   "cell_type": "code",
   "execution_count": 11,
   "metadata": {},
   "outputs": [],
   "source": [
    "row, ct = tablesVSBest(\"ld_20\")\n",
    "results.append(row)\n",
    "crosstabs.append(ct)"
   ]
  },
  {
   "cell_type": "code",
   "execution_count": 12,
   "metadata": {},
   "outputs": [],
   "source": [
    "row, ct = tablesVSBest(\"ld_21\")\n",
    "results.append(row)\n",
    "crosstabs.append(ct)"
   ]
  },
  {
   "cell_type": "code",
   "execution_count": 13,
   "metadata": {},
   "outputs": [],
   "source": [
    "row, ct = tablesVSBest(\"ld_23\")\n",
    "results.append(row)\n",
    "crosstabs.append(ct)"
   ]
  },
  {
   "cell_type": "code",
   "execution_count": 14,
   "metadata": {},
   "outputs": [],
   "source": [
    "row, ct = tablesVSBest(\"ld_24\")\n",
    "results.append(row)\n",
    "crosstabs.append(ct)"
   ]
  },
  {
   "cell_type": "code",
   "execution_count": 15,
   "metadata": {},
   "outputs": [],
   "source": [
    "row, ct = tablesVSBest(\"ld_26\")\n",
    "results.append(row)\n",
    "crosstabs.append(ct)"
   ]
  },
  {
   "cell_type": "code",
   "execution_count": 16,
   "metadata": {},
   "outputs": [],
   "source": [
    "row, ct = tablesVSBest(\"ld_27\")\n",
    "results.append(row)\n",
    "crosstabs.append(ct)"
   ]
  },
  {
   "cell_type": "code",
   "execution_count": 17,
   "metadata": {},
   "outputs": [],
   "source": [
    "row, ct = tablesVSBest(\"ld_29\")\n",
    "results.append(row)\n",
    "crosstabs.append(ct)"
   ]
  },
  {
   "cell_type": "code",
   "execution_count": 18,
   "metadata": {},
   "outputs": [],
   "source": [
    "row, ct = tablesVSBest(\"ld_30\")\n",
    "results.append(row)\n",
    "crosstabs.append(ct)"
   ]
  },
  {
   "cell_type": "code",
   "execution_count": 19,
   "metadata": {},
   "outputs": [],
   "source": [
    "results = pd.DataFrame(results)\n",
    "with pd.ExcelWriter('crosstabOfLD_08.xlsx', engine='openpyxl') as writer:\n",
    "        results.to_excel(writer, sheet_name=f\"ReportMetrics\", index=False)\n",
    "        for (name, cm) in crosstabs:\n",
    "                cm.to_excel(writer, sheet_name=name)"
   ]
  }
 ],
 "metadata": {
  "kernelspec": {
   "display_name": "Python 3",
   "language": "python",
   "name": "python3"
  },
  "language_info": {
   "codemirror_mode": {
    "name": "ipython",
    "version": 3
   },
   "file_extension": ".py",
   "mimetype": "text/x-python",
   "name": "python",
   "nbconvert_exporter": "python",
   "pygments_lexer": "ipython3",
   "version": "3.12.4"
  }
 },
 "nbformat": 4,
 "nbformat_minor": 2
}
