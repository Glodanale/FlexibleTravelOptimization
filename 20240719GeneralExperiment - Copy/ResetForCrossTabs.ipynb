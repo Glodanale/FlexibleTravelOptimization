{
 "cells": [
  {
   "cell_type": "code",
   "execution_count": 1,
   "metadata": {},
   "outputs": [],
   "source": [
    "import pandas as pd\n",
    "import numpy as np\n",
    "import ChildDFs\n",
    "import clusterSets\n",
    "import ExecuteAllocation\n",
    "import randomAllo\n",
    "import TrueDistanceAllocation\n",
    "import ClusterMetrics\n",
    "import RouteGeneration"
   ]
  },
  {
   "cell_type": "code",
   "execution_count": 2,
   "metadata": {},
   "outputs": [],
   "source": [
    "def distanceNoCapAlgo(table):\n",
    "    TrueDistanceAllocation.distanceNoCap(table)"
   ]
  },
  {
   "cell_type": "code",
   "execution_count": 3,
   "metadata": {},
   "outputs": [],
   "source": [
    "def eiLocNoCap(childList, table):\n",
    "    clusters = clusterSets.eiLocationClusters()\n",
    "    childDF = ExecuteAllocation.allocationNoCap(childList, clusters, table)"
   ]
  },
  {
   "cell_type": "code",
   "execution_count": 4,
   "metadata": {},
   "outputs": [],
   "source": [
    "def realCCUniformNoCap(childList, table):\n",
    "    clusters = clusterSets.clusterRealUniform()\n",
    "    childDF = ExecuteAllocation.allocationNoCap(childList, clusters, table)"
   ]
  },
  {
   "cell_type": "code",
   "execution_count": 5,
   "metadata": {},
   "outputs": [],
   "source": [
    "def realCCWeightedNoCap(childList, table):\n",
    "    clusters = clusterSets.clusterRealWeighted()\n",
    "    childDF = ExecuteAllocation.allocationNoCap(childList, clusters, table)"
   ]
  },
  {
   "cell_type": "code",
   "execution_count": 6,
   "metadata": {},
   "outputs": [],
   "source": [
    "def randomUniCap(table):\n",
    "    randomAllo.randomUniformCap(table)"
   ]
  },
  {
   "cell_type": "code",
   "execution_count": 7,
   "metadata": {},
   "outputs": [],
   "source": [
    "def distUniCap(childList, table):\n",
    "    TrueDistanceAllocation.distanceUniformCap(childList, table)"
   ]
  },
  {
   "cell_type": "code",
   "execution_count": 8,
   "metadata": {},
   "outputs": [],
   "source": [
    "def eilocUniCap(childList, table):\n",
    "    clusters = clusterSets.eiLocationClusters()\n",
    "    childDF = ExecuteAllocation.allocationUniform(childList, clusters, table)"
   ]
  },
  {
   "cell_type": "code",
   "execution_count": 9,
   "metadata": {},
   "outputs": [],
   "source": [
    "def realCCUniUniCap(childList, table):\n",
    "    clusters = clusterSets.clusterRealUniform()\n",
    "    childDF = ExecuteAllocation.allocationUniform(childList, clusters, table)"
   ]
  },
  {
   "cell_type": "code",
   "execution_count": 10,
   "metadata": {},
   "outputs": [],
   "source": [
    "def realCCWeightUniCap(childList, table):\n",
    "    clusters = clusterSets.clusterRealWeighted()\n",
    "    childDF = ExecuteAllocation.allocationUniform(childList, clusters, table)"
   ]
  },
  {
   "cell_type": "code",
   "execution_count": 11,
   "metadata": {},
   "outputs": [],
   "source": [
    "def randomRealCap(table):\n",
    "    randomAllo.randomRealCap(table)"
   ]
  },
  {
   "cell_type": "code",
   "execution_count": 12,
   "metadata": {},
   "outputs": [],
   "source": [
    "def distRealCap(childList, table):\n",
    "    TrueDistanceAllocation.distanceRealCap(childList, table)"
   ]
  },
  {
   "cell_type": "code",
   "execution_count": 13,
   "metadata": {},
   "outputs": [],
   "source": [
    "def eilocRealCap(childList, table):\n",
    "    clusters = clusterSets.eiLocationClusters()\n",
    "    childDF = ExecuteAllocation.allocationRealCap(childList, clusters, table)"
   ]
  },
  {
   "cell_type": "code",
   "execution_count": 14,
   "metadata": {},
   "outputs": [],
   "source": [
    "def realCCUniRealCap(childList, table):\n",
    "    clusters = clusterSets.clusterRealUniform()\n",
    "    childDF = ExecuteAllocation.allocationRealCap(childList, clusters, table)"
   ]
  },
  {
   "cell_type": "code",
   "execution_count": 15,
   "metadata": {},
   "outputs": [],
   "source": [
    "def realCCWeightRealCap(childList, table):\n",
    "    clusters = clusterSets.clusterRealWeighted()\n",
    "    childDF = ExecuteAllocation.allocationRealCap(childList, clusters, table)"
   ]
  },
  {
   "cell_type": "code",
   "execution_count": 16,
   "metadata": {},
   "outputs": [],
   "source": [
    "distanceChild = ChildDFs.childDFDistanceSort()\n",
    "Zchild = ChildDFs.childDFZsort()"
   ]
  },
  {
   "cell_type": "code",
   "execution_count": 17,
   "metadata": {},
   "outputs": [],
   "source": [
    "distanceNoCapAlgo(\"ld_01\")"
   ]
  },
  {
   "cell_type": "code",
   "execution_count": 18,
   "metadata": {},
   "outputs": [
    {
     "name": "stdout",
     "output_type": "stream",
     "text": [
      "EI id: 65d75a2ce09e67e025e8cd30               count: 4\n",
      "EI id: 65d75bb0e09e67e025e8cd31               count: 19\n",
      "EI id: 65d75c59e09e67e025e8cd32               count: 29\n",
      "EI id: 65d75c87e09e67e025e8cd33               count: 6\n",
      "EI id: 65d75cb9e09e67e025e8cd34               count: 18\n",
      "EI id: 65d75ce1e09e67e025e8cd35               count: 6\n",
      "EI id: 65d75d08e09e67e025e8cd36               count: 15\n",
      "EI id: 65d75d4ce09e67e025e8cd37               count: 23\n",
      "EI id: 65d75d80e09e67e025e8cd38               count: 20\n",
      "EI id: 65d75da9e09e67e025e8cd39               count: 11\n",
      "EI id: 65d75dd5e09e67e025e8cd3a               count: 7\n",
      "EI id: 65d75dfae09e67e025e8cd3b               count: 37\n"
     ]
    }
   ],
   "source": [
    "eiLocNoCap(distanceChild, \"ld_02\")"
   ]
  },
  {
   "cell_type": "code",
   "execution_count": 19,
   "metadata": {},
   "outputs": [
    {
     "name": "stdout",
     "output_type": "stream",
     "text": [
      "EI id: 65d75a2ce09e67e025e8cd30               count: 28\n",
      "EI id: 65d75bb0e09e67e025e8cd31               count: 3\n",
      "EI id: 65d75c59e09e67e025e8cd32               count: 22\n",
      "EI id: 65d75c87e09e67e025e8cd33               count: 21\n",
      "EI id: 65d75cb9e09e67e025e8cd34               count: 18\n",
      "EI id: 65d75ce1e09e67e025e8cd35               count: 27\n",
      "EI id: 65d75d08e09e67e025e8cd36               count: 6\n",
      "EI id: 65d75d4ce09e67e025e8cd37               count: 13\n",
      "EI id: 65d75d80e09e67e025e8cd38               count: 22\n",
      "EI id: 65d75da9e09e67e025e8cd39               count: 8\n",
      "EI id: 65d75dd5e09e67e025e8cd3a               count: 8\n",
      "EI id: 65d75dfae09e67e025e8cd3b               count: 19\n"
     ]
    }
   ],
   "source": [
    "realCCUniformNoCap(distanceChild, \"ld_03\")"
   ]
  },
  {
   "cell_type": "code",
   "execution_count": 20,
   "metadata": {},
   "outputs": [
    {
     "name": "stdout",
     "output_type": "stream",
     "text": [
      "EI id: 65d75a2ce09e67e025e8cd30               count: 24\n",
      "EI id: 65d75bb0e09e67e025e8cd31               count: 0\n",
      "EI id: 65d75c59e09e67e025e8cd32               count: 27\n",
      "EI id: 65d75c87e09e67e025e8cd33               count: 13\n",
      "EI id: 65d75cb9e09e67e025e8cd34               count: 23\n",
      "EI id: 65d75ce1e09e67e025e8cd35               count: 16\n",
      "EI id: 65d75d08e09e67e025e8cd36               count: 17\n",
      "EI id: 65d75d4ce09e67e025e8cd37               count: 16\n",
      "EI id: 65d75d80e09e67e025e8cd38               count: 22\n",
      "EI id: 65d75da9e09e67e025e8cd39               count: 3\n",
      "EI id: 65d75dd5e09e67e025e8cd3a               count: 13\n",
      "EI id: 65d75dfae09e67e025e8cd3b               count: 21\n"
     ]
    }
   ],
   "source": [
    "realCCWeightedNoCap(distanceChild, \"ld_04\")"
   ]
  },
  {
   "cell_type": "code",
   "execution_count": 21,
   "metadata": {},
   "outputs": [],
   "source": [
    "distUniCap(distanceChild, \"ld_07\")"
   ]
  },
  {
   "cell_type": "code",
   "execution_count": 22,
   "metadata": {},
   "outputs": [],
   "source": [
    "distUniCap(Zchild, \"ld_08\")"
   ]
  },
  {
   "cell_type": "code",
   "execution_count": 23,
   "metadata": {},
   "outputs": [],
   "source": [
    "eilocUniCap(distanceChild, \"ld_10\")"
   ]
  },
  {
   "cell_type": "code",
   "execution_count": 24,
   "metadata": {},
   "outputs": [],
   "source": [
    "eilocUniCap(Zchild, \"ld_11\")"
   ]
  },
  {
   "cell_type": "code",
   "execution_count": 25,
   "metadata": {},
   "outputs": [],
   "source": [
    "realCCUniUniCap(distanceChild, \"ld_13\")"
   ]
  },
  {
   "cell_type": "code",
   "execution_count": 26,
   "metadata": {},
   "outputs": [],
   "source": [
    "realCCUniUniCap(Zchild, \"ld_14\")"
   ]
  },
  {
   "cell_type": "code",
   "execution_count": 27,
   "metadata": {},
   "outputs": [],
   "source": [
    "realCCWeightUniCap(distanceChild, \"ld_16\")"
   ]
  },
  {
   "cell_type": "code",
   "execution_count": 28,
   "metadata": {},
   "outputs": [],
   "source": [
    "realCCWeightUniCap(Zchild, \"ld_17\")"
   ]
  },
  {
   "cell_type": "code",
   "execution_count": 29,
   "metadata": {},
   "outputs": [],
   "source": [
    "distRealCap(distanceChild, \"ld_20\")"
   ]
  },
  {
   "cell_type": "code",
   "execution_count": 30,
   "metadata": {},
   "outputs": [],
   "source": [
    "distRealCap(Zchild, \"ld_21\")"
   ]
  },
  {
   "cell_type": "code",
   "execution_count": 31,
   "metadata": {},
   "outputs": [
    {
     "name": "stdout",
     "output_type": "stream",
     "text": [
      "<class 'pandas.core.frame.DataFrame'>\n",
      "                          id  assignment_count\n",
      "0   65d75a2ce09e67e025e8cd30                16\n",
      "1   65d75bb0e09e67e025e8cd31                 5\n",
      "2   65d75c59e09e67e025e8cd32                14\n",
      "3   65d75c87e09e67e025e8cd33                19\n",
      "4   65d75cb9e09e67e025e8cd34                11\n",
      "5   65d75ce1e09e67e025e8cd35                15\n",
      "6   65d75d08e09e67e025e8cd36                22\n",
      "7   65d75d4ce09e67e025e8cd37                16\n",
      "8   65d75d80e09e67e025e8cd38                18\n",
      "9   65d75da9e09e67e025e8cd39                12\n",
      "10  65d75dd5e09e67e025e8cd3a                25\n",
      "11  65d75dfae09e67e025e8cd3b                22\n"
     ]
    }
   ],
   "source": [
    "eilocRealCap(distanceChild, \"ld_23\")"
   ]
  },
  {
   "cell_type": "code",
   "execution_count": 32,
   "metadata": {},
   "outputs": [
    {
     "name": "stdout",
     "output_type": "stream",
     "text": [
      "<class 'pandas.core.frame.DataFrame'>\n",
      "                          id  assignment_count\n",
      "0   65d75a2ce09e67e025e8cd30                18\n",
      "1   65d75bb0e09e67e025e8cd31                 6\n",
      "2   65d75c59e09e67e025e8cd32                14\n",
      "3   65d75c87e09e67e025e8cd33                18\n",
      "4   65d75cb9e09e67e025e8cd34                11\n",
      "5   65d75ce1e09e67e025e8cd35                15\n",
      "6   65d75d08e09e67e025e8cd36                22\n",
      "7   65d75d4ce09e67e025e8cd37                16\n",
      "8   65d75d80e09e67e025e8cd38                18\n",
      "9   65d75da9e09e67e025e8cd39                12\n",
      "10  65d75dd5e09e67e025e8cd3a                23\n",
      "11  65d75dfae09e67e025e8cd3b                22\n"
     ]
    }
   ],
   "source": [
    "eilocRealCap(Zchild, \"ld_24\")"
   ]
  },
  {
   "cell_type": "code",
   "execution_count": 33,
   "metadata": {},
   "outputs": [
    {
     "name": "stdout",
     "output_type": "stream",
     "text": [
      "<class 'pandas.core.frame.DataFrame'>\n",
      "                          id assignment_count\n",
      "0   65d75a2ce09e67e025e8cd30               18\n",
      "1   65d75bb0e09e67e025e8cd31                5\n",
      "2   65d75c59e09e67e025e8cd32               14\n",
      "3   65d75c87e09e67e025e8cd33               18\n",
      "4   65d75cb9e09e67e025e8cd34               11\n",
      "5   65d75ce1e09e67e025e8cd35               17\n",
      "6   65d75d08e09e67e025e8cd36               18\n",
      "7   65d75d4ce09e67e025e8cd37               16\n",
      "8   65d75d80e09e67e025e8cd38               19\n",
      "9   65d75da9e09e67e025e8cd39               12\n",
      "10  65d75dd5e09e67e025e8cd3a               24\n",
      "11  65d75dfae09e67e025e8cd3b               23\n"
     ]
    }
   ],
   "source": [
    "realCCUniRealCap(distanceChild, \"ld_26\")"
   ]
  },
  {
   "cell_type": "code",
   "execution_count": 34,
   "metadata": {},
   "outputs": [
    {
     "name": "stdout",
     "output_type": "stream",
     "text": [
      "<class 'pandas.core.frame.DataFrame'>\n",
      "                          id assignment_count\n",
      "0   65d75a2ce09e67e025e8cd30               18\n",
      "1   65d75bb0e09e67e025e8cd31                5\n",
      "2   65d75c59e09e67e025e8cd32               14\n",
      "3   65d75c87e09e67e025e8cd33               18\n",
      "4   65d75cb9e09e67e025e8cd34               11\n",
      "5   65d75ce1e09e67e025e8cd35               15\n",
      "6   65d75d08e09e67e025e8cd36               22\n",
      "7   65d75d4ce09e67e025e8cd37               16\n",
      "8   65d75d80e09e67e025e8cd38               18\n",
      "9   65d75da9e09e67e025e8cd39               12\n",
      "10  65d75dd5e09e67e025e8cd3a               24\n",
      "11  65d75dfae09e67e025e8cd3b               22\n"
     ]
    }
   ],
   "source": [
    "realCCUniRealCap(Zchild, \"ld_27\")"
   ]
  },
  {
   "cell_type": "code",
   "execution_count": 35,
   "metadata": {},
   "outputs": [
    {
     "name": "stdout",
     "output_type": "stream",
     "text": [
      "<class 'pandas.core.frame.DataFrame'>\n",
      "                          id assignment_count\n",
      "0   65d75a2ce09e67e025e8cd30               18\n",
      "1   65d75bb0e09e67e025e8cd31                5\n",
      "2   65d75c59e09e67e025e8cd32               14\n",
      "3   65d75c87e09e67e025e8cd33               19\n",
      "4   65d75cb9e09e67e025e8cd34               11\n",
      "5   65d75ce1e09e67e025e8cd35               15\n",
      "6   65d75d08e09e67e025e8cd36               22\n",
      "7   65d75d4ce09e67e025e8cd37               17\n",
      "8   65d75d80e09e67e025e8cd38               18\n",
      "9   65d75da9e09e67e025e8cd39               10\n",
      "10  65d75dd5e09e67e025e8cd3a               24\n",
      "11  65d75dfae09e67e025e8cd3b               22\n"
     ]
    }
   ],
   "source": [
    "realCCWeightRealCap(distanceChild, \"ld_29\")"
   ]
  },
  {
   "cell_type": "code",
   "execution_count": 36,
   "metadata": {},
   "outputs": [
    {
     "name": "stdout",
     "output_type": "stream",
     "text": [
      "<class 'pandas.core.frame.DataFrame'>\n",
      "                          id assignment_count\n",
      "0   65d75a2ce09e67e025e8cd30               18\n",
      "1   65d75bb0e09e67e025e8cd31                6\n",
      "2   65d75c59e09e67e025e8cd32               14\n",
      "3   65d75c87e09e67e025e8cd33               18\n",
      "4   65d75cb9e09e67e025e8cd34               11\n",
      "5   65d75ce1e09e67e025e8cd35               15\n",
      "6   65d75d08e09e67e025e8cd36               22\n",
      "7   65d75d4ce09e67e025e8cd37               16\n",
      "8   65d75d80e09e67e025e8cd38               18\n",
      "9   65d75da9e09e67e025e8cd39               11\n",
      "10  65d75dd5e09e67e025e8cd3a               23\n",
      "11  65d75dfae09e67e025e8cd3b               23\n"
     ]
    }
   ],
   "source": [
    "realCCWeightRealCap(Zchild, \"ld_30\")"
   ]
  }
 ],
 "metadata": {
  "kernelspec": {
   "display_name": "Python 3",
   "language": "python",
   "name": "python3"
  },
  "language_info": {
   "codemirror_mode": {
    "name": "ipython",
    "version": 3
   },
   "file_extension": ".py",
   "mimetype": "text/x-python",
   "name": "python",
   "nbconvert_exporter": "python",
   "pygments_lexer": "ipython3",
   "version": "3.12.4"
  }
 },
 "nbformat": 4,
 "nbformat_minor": 2
}
