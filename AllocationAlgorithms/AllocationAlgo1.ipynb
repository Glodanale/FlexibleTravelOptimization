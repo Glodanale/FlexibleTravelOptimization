{
 "cells": [
  {
   "cell_type": "markdown",
   "id": "2c62bc09-7600-4b65-a7e2-f2534857fa9f",
   "metadata": {},
   "source": [
    "# Allocation Algorithm 1\n",
    "\n",
    "> **1.** For each EI in list, assign the child that is closest to that EI along with any other children also at that address.\n",
    "\n",
    "> **2.** Remove all of the children at that location from the list of available children.\n",
    "\n",
    "> **3.** After each iteration through the EIs, pull the number of children each EI has assigned to them.  All of the EIs that have the lowest number of children in the list are fed into the next iteration of EIs for assignment to ensure all the EIs have a mostly even number of children for a balanced dataset.\n",
    "\n",
    "> **4.** Continue this process until all children have been assigned to an EI\n",
    "\n",
    "> **5.** Update MySQL table locationdataalgo1"
   ]
  },
  {
   "cell_type": "code",
   "execution_count": 1,
   "id": "0f29dd44-fb85-4cd9-9be2-25fea0f34be2",
   "metadata": {
    "tags": []
   },
   "outputs": [],
   "source": [
    "import pandas as pd\n",
    "import numpy as np\n",
    "import mysql.connector"
   ]
  },
  {
   "cell_type": "code",
   "execution_count": 2,
   "id": "3e7e33d1-6e3c-4a86-9e42-b09a2dc8fdf1",
   "metadata": {
    "tags": []
   },
   "outputs": [],
   "source": [
    "connection = mysql.connector.connect(\n",
    "            host = \"localhost\",\n",
    "            port = 3306,\n",
    "            user = 'root',\n",
    "            database = \"expandinghorizons\",\n",
    "            password = \"dB79@dG2024!\"\n",
    ")\n",
    "    \n",
    "cursor = connection.cursor()"
   ]
  },
  {
   "cell_type": "code",
   "execution_count": 3,
   "id": "24056041-fedc-4b5e-a3d0-d4b3412708ac",
   "metadata": {},
   "outputs": [],
   "source": [
    "query = (\"UPDATE child \"\n",
    "         \"SET assigned = 0\")\n",
    "cursor.execute(query)"
   ]
  },
  {
   "cell_type": "code",
   "execution_count": 4,
   "id": "de706808-c43f-4421-97e8-b214dc3fdaf4",
   "metadata": {},
   "outputs": [
    {
     "name": "stdout",
     "output_type": "stream",
     "text": [
      "65d75a2ce09e67e025e8cd30\n",
      "65d75bb0e09e67e025e8cd31\n",
      "65d75c59e09e67e025e8cd32\n",
      "65d75c87e09e67e025e8cd33\n",
      "65d75cb9e09e67e025e8cd34\n",
      "65d75ce1e09e67e025e8cd35\n",
      "65d75d08e09e67e025e8cd36\n",
      "65d75d4ce09e67e025e8cd37\n",
      "65d75d80e09e67e025e8cd38\n",
      "65d75da9e09e67e025e8cd39\n",
      "65d75dd5e09e67e025e8cd3a\n",
      "65d75dfae09e67e025e8cd3b\n"
     ]
    }
   ],
   "source": [
    "query = (\"SELECT ei_id FROM ei \"\n",
    "         \"WHERE ei_id != '65d75e28e09e67e025e8cd3c'\")\n",
    "cursor.execute(query)\n",
    "\n",
    "ei_ids = cursor.fetchall()\n",
    "\n",
    "for row in ei_ids:\n",
    "    print(row[0])"
   ]
  },
  {
   "cell_type": "code",
   "execution_count": 5,
   "id": "2170dbe8-b222-438d-9de7-3572b2ab746f",
   "metadata": {
    "tags": []
   },
   "outputs": [
    {
     "name": "stdout",
     "output_type": "stream",
     "text": [
      "                       ei_id assignment_count\n",
      "0   65d75a2ce09e67e025e8cd30                 \n",
      "1   65d75bb0e09e67e025e8cd31                 \n",
      "2   65d75c59e09e67e025e8cd32                 \n",
      "3   65d75c87e09e67e025e8cd33                 \n",
      "4   65d75cb9e09e67e025e8cd34                 \n",
      "5   65d75ce1e09e67e025e8cd35                 \n",
      "6   65d75d08e09e67e025e8cd36                 \n",
      "7   65d75d4ce09e67e025e8cd37                 \n",
      "8   65d75d80e09e67e025e8cd38                 \n",
      "9   65d75da9e09e67e025e8cd39                 \n",
      "10  65d75dd5e09e67e025e8cd3a                 \n",
      "11  65d75dfae09e67e025e8cd3b                 \n"
     ]
    }
   ],
   "source": [
    "column_names = ['ei_id']\n",
    "\n",
    "# Create DataFrame\n",
    "eiDF = pd.DataFrame(ei_ids, columns=column_names)\n",
    "eiDF[\"assignment_count\"] = \"\"\n",
    "print(eiDF)"
   ]
  },
  {
   "cell_type": "code",
   "execution_count": 6,
   "id": "8fd3594c-0621-41e3-aae4-7a065ed96a8d",
   "metadata": {
    "scrolled": true,
    "tags": []
   },
   "outputs": [
    {
     "name": "stdout",
     "output_type": "stream",
     "text": [
      "65d76430e09e67e025e8cd43\n",
      "65d764dde09e67e025e8cd44\n",
      "65d766f6e09e67e025e8cd45\n",
      "65d76799e09e67e025e8cd46\n",
      "65d76829e09e67e025e8cd47\n",
      "65d76956e09e67e025e8cd48\n",
      "65d769fde09e67e025e8cd49\n",
      "65d76b1ee09e67e025e8cd4a\n",
      "65d76bb7e09e67e025e8cd4b\n",
      "65d76c25e09e67e025e8cd4c\n",
      "65d76ca3e09e67e025e8cd4d\n",
      "65d76d38e09e67e025e8cd4e\n",
      "65d76dcae09e67e025e8cd4f\n",
      "65d76e6de09e67e025e8cd50\n",
      "65d76f01e09e67e025e8cd51\n",
      "65d76f7ae09e67e025e8cd52\n",
      "65d76ff5e09e67e025e8cd53\n",
      "65d77069e09e67e025e8cd54\n",
      "65d770fde09e67e025e8cd55\n",
      "65d771a3e09e67e025e8cd5a\n",
      "65d7725be09e67e025e8cd5b\n",
      "65d772ffe09e67e025e8cd5c\n",
      "65d773a1e09e67e025e8cd5d\n",
      "65d77c78e09e67e025e8cd5e\n",
      "65d77d33e09e67e025e8cd5f\n",
      "65d77ed6e09e67e025e8cd60\n",
      "65d77f4de09e67e025e8cd61\n",
      "65d77fdce09e67e025e8cd62\n",
      "65d78068e09e67e025e8cd63\n",
      "65d780cee09e67e025e8cd64\n",
      "65d78173e09e67e025e8cd65\n",
      "65d78213e09e67e025e8cd66\n",
      "65d782a0e09e67e025e8cd67\n",
      "65d7830de09e67e025e8cd68\n",
      "65d78390e09e67e025e8cd69\n",
      "65d7842ee09e67e025e8cd6a\n",
      "65d78493e09e67e025e8cd6b\n",
      "65d7852de09e67e025e8cd6c\n",
      "65d785dee09e67e025e8cd6d\n",
      "65d7864fe09e67e025e8cd6e\n",
      "65d786e0e09e67e025e8cd6f\n",
      "65d78775e09e67e025e8cd70\n",
      "65d787f5e09e67e025e8cd71\n",
      "65d7886ae09e67e025e8cd72\n",
      "65d788d6e09e67e025e8cd73\n",
      "65d89f0de09e67e025e8cd74\n",
      "65d8b217e09e67e025e8cd75\n",
      "65d8b2bce09e67e025e8cd76\n",
      "65d8b327e09e67e025e8cd77\n",
      "65d8b3f9e09e67e025e8cd78\n",
      "65d8b4e2e09e67e025e8cd79\n",
      "65d8b5cae09e67e025e8cd7a\n",
      "65d8b679e09e67e025e8cd7b\n",
      "65d8b6f8e09e67e025e8cd7c\n",
      "65d8b770e09e67e025e8cd7d\n",
      "65d8b7d1e09e67e025e8cd7e\n",
      "65d8b845e09e67e025e8cd7f\n",
      "65d8b8b7e09e67e025e8cd80\n",
      "65d8b945e09e67e025e8cd81\n",
      "65d8b9c0e09e67e025e8cd82\n",
      "65d8ba3ae09e67e025e8cd83\n",
      "65d8baa4e09e67e025e8cd84\n",
      "65d8bb48e09e67e025e8cd85\n",
      "65d8bc1ee09e67e025e8cd86\n",
      "65d8bcaae09e67e025e8cd87\n",
      "65d8bd34e09e67e025e8cd88\n",
      "65d8bdb5e09e67e025e8cd89\n",
      "65d8be2ae09e67e025e8cd8a\n",
      "65d8bec4e09e67e025e8cd8b\n",
      "65d8bf9ce09e67e025e8cd8c\n",
      "65d8c01ee09e67e025e8cd8d\n",
      "65d8c087e09e67e025e8cd8e\n",
      "65d8c149e09e67e025e8cd8f\n",
      "65d8c1c1e09e67e025e8cd90\n",
      "65d8c240e09e67e025e8cd91\n",
      "65d8c2bde09e67e025e8cd92\n",
      "65d8c331e09e67e025e8cd93\n",
      "65d8c3ace09e67e025e8cd94\n",
      "65d8c44ee09e67e025e8cd95\n",
      "65d8c4cde09e67e025e8cd96\n",
      "65d8c532e09e67e025e8cd97\n",
      "65d8c590e09e67e025e8cd98\n",
      "65d8c627e09e67e025e8cd99\n",
      "65d8c6f1e09e67e025e8cd9a\n",
      "65d8c9a4e09e67e025e8cd9b\n",
      "65d8ca17e09e67e025e8cd9c\n",
      "65d8cacce09e67e025e8cd9d\n",
      "65d8cb39e09e67e025e8cd9e\n",
      "65d8cbcee09e67e025e8cd9f\n",
      "65d8cc36e09e67e025e8cda0\n",
      "65d8ccefe09e67e025e8cda1\n",
      "65d8cd61e09e67e025e8cda2\n",
      "65d8cddbe09e67e025e8cda3\n",
      "65d8ce46e09e67e025e8cda4\n",
      "65d8ceb4e09e67e025e8cda5\n",
      "65d8cf15e09e67e025e8cda6\n",
      "65d8cf94e09e67e025e8cda7\n",
      "65d8cff4e09e67e025e8cda8\n",
      "65d8d05fe09e67e025e8cda9\n",
      "65d8d0bee09e67e025e8cdaa\n",
      "65d8d17be09e67e025e8cdab\n",
      "65d8d1dae09e67e025e8cdac\n",
      "65d8d255e09e67e025e8cdad\n",
      "65d8d32ae09e67e025e8cdae\n",
      "65d8d3f8e09e67e025e8cdaf\n",
      "65d8d451e09e67e025e8cdb0\n",
      "65d8d4b3e09e67e025e8cdb1\n",
      "65d8d56ae09e67e025e8cdb2\n",
      "65d8d5dbe09e67e025e8cdb3\n",
      "65d8d66de09e67e025e8cdb4\n",
      "65d8d6d9e09e67e025e8cdb5\n",
      "65d8d732e09e67e025e8cdb6\n",
      "65d8d7c4e09e67e025e8cdb7\n",
      "65d8d81ee09e67e025e8cdb8\n",
      "65d8d897e09e67e025e8cdb9\n",
      "65d8d8fee09e67e025e8cdba\n",
      "65d8d962e09e67e025e8cdbb\n",
      "65d8d9bce09e67e025e8cdbc\n",
      "65d8da66e09e67e025e8cdbd\n",
      "65d8dabde09e67e025e8cdbe\n",
      "65d8db3ce09e67e025e8cdbf\n",
      "65d8db8fe09e67e025e8cdc0\n",
      "65e5c8f938f826f292671fe9\n",
      "65e5ca5838f826f292671fea\n",
      "65e5cae438f826f292671feb\n",
      "65e5cb8538f826f292671fec\n",
      "65e5cc1b38f826f292671fed\n",
      "65e5cc7f38f826f292671fee\n",
      "65e5cd3c38f826f292671fef\n",
      "65e5cdba38f826f292671ff0\n",
      "65e5ce6238f826f292671ff1\n",
      "65e5cef438f826f292671ff2\n",
      "65e5cfc338f826f292671ff3\n",
      "65e5d02938f826f292671ff4\n",
      "65e5d0cf38f826f292671ff5\n",
      "65e5d15e38f826f292671ff6\n",
      "65e5d23538f826f292671ff7\n",
      "65e5d29138f826f292671ff8\n",
      "65e5d32138f826f292671ff9\n",
      "65e5d38f38f826f292671ffa\n",
      "65e5d41e38f826f292671ffb\n",
      "65e5d4d238f826f292671ffc\n",
      "65e5d57838f826f292671ffd\n",
      "65e5d5d038f826f292671ffe\n",
      "65e5d62e38f826f292671fff\n",
      "65e5d6b638f826f292672000\n",
      "65e5d71c38f826f292672001\n",
      "65e5d77e38f826f292672002\n",
      "65e5d81138f826f292672003\n",
      "65e5d87138f826f292672004\n",
      "65e5d8f938f826f292672005\n",
      "65e5d95538f826f292672006\n",
      "65e5d9ad38f826f292672007\n",
      "65e5da5138f826f292672008\n",
      "65e5daec38f826f292672009\n",
      "65e5db4d38f826f29267200a\n",
      "65e5db9f38f826f29267200b\n",
      "65e5dbff38f826f29267200c\n",
      "65e5dc4f38f826f29267200d\n",
      "65e5dcbc38f826f29267200e\n",
      "65e5dd2b38f826f29267200f\n",
      "65e5dd8a38f826f292672010\n",
      "65e5dded38f826f292672011\n",
      "65e5dec738f826f292672012\n",
      "65e5df2638f826f292672013\n",
      "65e5df8638f826f292672014\n",
      "65e5e03138f826f292672016\n",
      "65e5e0b738f826f292672017\n",
      "65e5e11438f826f292672018\n",
      "65e5e1d638f826f292672019\n",
      "65e5e28638f826f29267201a\n",
      "65e5e2dc38f826f29267201b\n",
      "65e5e3c238f826f29267201c\n",
      "65e5e58338f826f29267201d\n",
      "65e5e60a38f826f29267201e\n",
      "65e5e69338f826f29267201f\n",
      "65e5e6f638f826f292672020\n",
      "65e5e76038f826f292672021\n",
      "65e5fcaa38f826f292672022\n",
      "65e5fd0e38f826f292672023\n",
      "65e5fd6538f826f292672024\n",
      "65e5fe7438f826f292672025\n",
      "65e5ff2d38f826f292672026\n",
      "65e5ff9838f826f292672027\n",
      "65e5ffef38f826f292672028\n",
      "65e6004638f826f292672029\n",
      "65e6009738f826f29267202a\n",
      "65e601b138f826f29267202b\n",
      "65e6021338f826f29267202c\n",
      "65e6027b38f826f29267202d\n",
      "65e602f838f826f29267202e\n",
      "65e6038938f826f29267202f\n",
      "65e603f238f826f292672030\n",
      "65e6044938f826f292672031\n",
      "65e6049b38f826f292672032\n",
      "65ef076606e0a866af56d202\n"
     ]
    }
   ],
   "source": [
    "query = (\"SELECT child_id from child\")\n",
    "cursor.execute(query)\n",
    "\n",
    "child_ids = cursor.fetchall()\n",
    "\n",
    "for row in child_ids:\n",
    "    print(row[0])"
   ]
  },
  {
   "cell_type": "code",
   "execution_count": 7,
   "id": "1075f00b-ffc6-4fd9-b5ad-a409f244962d",
   "metadata": {
    "scrolled": true,
    "tags": []
   },
   "outputs": [],
   "source": [
    "def runAlgo1(ei_ids, eiDF):\n",
    "    for ei in ei_ids:\n",
    "        query = (\"Select ld.child_id_1, ld.ei_id_1, ld.assigned, ld.driving_distance, ld.driving_time, child.Longitude, child.Latitude, child.assigned from locationdataalgo1 ld \"\n",
    "                 \"join child on child.child_id=ld.child_id_1 \"\n",
    "                 f\"where ld.child_id_2 is null and ld.ei_id_2 is null and child.assigned = 0 and ei_id_1 = '{ei}' \"\n",
    "                 \"order by driving_distance asc\")\n",
    "        cursor.execute(query)\n",
    "        ei_data = cursor.fetchall()\n",
    "\n",
    "        for child in ei_data:\n",
    "            print(child)\n",
    "            print(child[5])\n",
    "            print(child[6])\n",
    "            longitude = child[5]\n",
    "            latitude = child[6]\n",
    "            break\n",
    "\n",
    "        updateQuery = (\"UPDATE locationdataalgo1 ld \"\n",
    "                       \"JOIN child on ld.child_id_1 = child.child_id \" \n",
    "                       f\"SET ld.assigned = 1, child.assigned = 1 \" \n",
    "                       f\"WHERE child.longitude = {longitude} and child.latitude = {latitude} and ld.ei_id_1 = '{ei}'\")\n",
    "        cursor.execute(updateQuery)\n",
    "        connection.commit()\n",
    "        print(\"Update query pushed\")\n",
    "\n",
    "    countQuery = (\"Select ei_id_1, count(*) from locationdataalgo1 \"\n",
    "                  \"where assigned = 1 \"\n",
    "                  \"group by ei_id_1\")\n",
    "    cursor.execute(countQuery)\n",
    "    countByEI = cursor.fetchall()\n",
    "\n",
    "    for ei_count in countByEI:\n",
    "        eiDF.loc[eiDF['ei_id'] == ei_count[0], 'assignment_count'] = ei_count[1]\n",
    "    print(eiDF)\n",
    "\n",
    "    min_count = eiDF['assignment_count'].min()\n",
    "    ei_ids_with_min_count = eiDF.loc[eiDF['assignment_count'] == min_count, 'ei_id'].tolist()\n",
    "    print(ei_ids_with_min_count)\n",
    "    \n",
    "    return ei_ids_with_min_count, eiDF"
   ]
  },
  {
   "cell_type": "code",
   "execution_count": 8,
   "id": "e0ce51d0-5921-4c39-8e90-caf90fd39c1c",
   "metadata": {
    "scrolled": true,
    "tags": []
   },
   "outputs": [
    {
     "ename": "ProgrammingError",
     "evalue": "1064 (42000): You have an error in your SQL syntax; check the manual that corresponds to your MySQL server version for the right syntax to use near '65d75a2ce09e67e025e8cd30',)' order by driving_distance asc' at line 1",
     "output_type": "error",
     "traceback": [
      "\u001b[1;31m---------------------------------------------------------------------------\u001b[0m",
      "\u001b[1;31mMySQLInterfaceError\u001b[0m                       Traceback (most recent call last)",
      "File \u001b[1;32m~\\anaconda3\\lib\\site-packages\\mysql\\connector\\connection_cext.py:661\u001b[0m, in \u001b[0;36mCMySQLConnection.cmd_query\u001b[1;34m(self, query, raw, buffered, raw_as_string)\u001b[0m\n\u001b[0;32m    660\u001b[0m         query \u001b[38;5;241m=\u001b[39m query\u001b[38;5;241m.\u001b[39mencode(\u001b[38;5;124m\"\u001b[39m\u001b[38;5;124mutf-8\u001b[39m\u001b[38;5;124m\"\u001b[39m)\n\u001b[1;32m--> 661\u001b[0m     \u001b[38;5;28;43mself\u001b[39;49m\u001b[38;5;241;43m.\u001b[39;49m\u001b[43m_cmysql\u001b[49m\u001b[38;5;241;43m.\u001b[39;49m\u001b[43mquery\u001b[49m\u001b[43m(\u001b[49m\n\u001b[0;32m    662\u001b[0m \u001b[43m        \u001b[49m\u001b[43mquery\u001b[49m\u001b[43m,\u001b[49m\n\u001b[0;32m    663\u001b[0m \u001b[43m        \u001b[49m\u001b[43mraw\u001b[49m\u001b[38;5;241;43m=\u001b[39;49m\u001b[43mraw\u001b[49m\u001b[43m,\u001b[49m\n\u001b[0;32m    664\u001b[0m \u001b[43m        \u001b[49m\u001b[43mbuffered\u001b[49m\u001b[38;5;241;43m=\u001b[39;49m\u001b[43mbuffered\u001b[49m\u001b[43m,\u001b[49m\n\u001b[0;32m    665\u001b[0m \u001b[43m        \u001b[49m\u001b[43mraw_as_string\u001b[49m\u001b[38;5;241;43m=\u001b[39;49m\u001b[43mraw_as_string\u001b[49m\u001b[43m,\u001b[49m\n\u001b[0;32m    666\u001b[0m \u001b[43m        \u001b[49m\u001b[43mquery_attrs\u001b[49m\u001b[38;5;241;43m=\u001b[39;49m\u001b[38;5;28;43mself\u001b[39;49m\u001b[38;5;241;43m.\u001b[39;49m\u001b[43mquery_attrs\u001b[49m\u001b[43m,\u001b[49m\n\u001b[0;32m    667\u001b[0m \u001b[43m    \u001b[49m\u001b[43m)\u001b[49m\n\u001b[0;32m    668\u001b[0m \u001b[38;5;28;01mexcept\u001b[39;00m MySQLInterfaceError \u001b[38;5;28;01mas\u001b[39;00m err:\n",
      "\u001b[1;31mMySQLInterfaceError\u001b[0m: You have an error in your SQL syntax; check the manual that corresponds to your MySQL server version for the right syntax to use near '65d75a2ce09e67e025e8cd30',)' order by driving_distance asc' at line 1",
      "\nThe above exception was the direct cause of the following exception:\n",
      "\u001b[1;31mProgrammingError\u001b[0m                          Traceback (most recent call last)",
      "Cell \u001b[1;32mIn[8], line 1\u001b[0m\n\u001b[1;32m----> 1\u001b[0m minEIs, eiDF \u001b[38;5;241m=\u001b[39m \u001b[43mrunAlgo1\u001b[49m\u001b[43m(\u001b[49m\u001b[43mei_ids\u001b[49m\u001b[43m,\u001b[49m\u001b[43m \u001b[49m\u001b[43meiDF\u001b[49m\u001b[43m)\u001b[49m\n",
      "Cell \u001b[1;32mIn[7], line 7\u001b[0m, in \u001b[0;36mrunAlgo1\u001b[1;34m(ei_ids, eiDF)\u001b[0m\n\u001b[0;32m      2\u001b[0m \u001b[38;5;28;01mfor\u001b[39;00m ei \u001b[38;5;129;01min\u001b[39;00m ei_ids:\n\u001b[0;32m      3\u001b[0m     query \u001b[38;5;241m=\u001b[39m (\u001b[38;5;124m\"\u001b[39m\u001b[38;5;124mSelect ld.child_id_1, ld.ei_id_1, ld.assigned, ld.driving_distance, ld.driving_time, child.Longitude, child.Latitude, child.assigned from locationdataalgo1 ld \u001b[39m\u001b[38;5;124m\"\u001b[39m\n\u001b[0;32m      4\u001b[0m              \u001b[38;5;124m\"\u001b[39m\u001b[38;5;124mjoin child on child.child_id=ld.child_id_1 \u001b[39m\u001b[38;5;124m\"\u001b[39m\n\u001b[0;32m      5\u001b[0m              \u001b[38;5;124mf\u001b[39m\u001b[38;5;124m\"\u001b[39m\u001b[38;5;124mwhere ld.child_id_2 is null and ld.ei_id_2 is null and child.assigned = 0 and ei_id_1 = \u001b[39m\u001b[38;5;124m'\u001b[39m\u001b[38;5;132;01m{\u001b[39;00mei\u001b[38;5;132;01m}\u001b[39;00m\u001b[38;5;124m'\u001b[39m\u001b[38;5;124m \u001b[39m\u001b[38;5;124m\"\u001b[39m\n\u001b[0;32m      6\u001b[0m              \u001b[38;5;124m\"\u001b[39m\u001b[38;5;124morder by driving_distance asc\u001b[39m\u001b[38;5;124m\"\u001b[39m)\n\u001b[1;32m----> 7\u001b[0m     \u001b[43mcursor\u001b[49m\u001b[38;5;241;43m.\u001b[39;49m\u001b[43mexecute\u001b[49m\u001b[43m(\u001b[49m\u001b[43mquery\u001b[49m\u001b[43m)\u001b[49m\n\u001b[0;32m      8\u001b[0m     ei_data \u001b[38;5;241m=\u001b[39m cursor\u001b[38;5;241m.\u001b[39mfetchall()\n\u001b[0;32m     10\u001b[0m     \u001b[38;5;28;01mfor\u001b[39;00m child \u001b[38;5;129;01min\u001b[39;00m ei_data:\n",
      "File \u001b[1;32m~\\anaconda3\\lib\\site-packages\\mysql\\connector\\cursor_cext.py:374\u001b[0m, in \u001b[0;36mCMySQLCursor.execute\u001b[1;34m(self, operation, params, multi)\u001b[0m\n\u001b[0;32m    369\u001b[0m             \u001b[38;5;28;01mraise\u001b[39;00m ProgrammingError(\n\u001b[0;32m    370\u001b[0m                 \u001b[38;5;124m\"\u001b[39m\u001b[38;5;124mNot all parameters were used in the SQL statement\u001b[39m\u001b[38;5;124m\"\u001b[39m\n\u001b[0;32m    371\u001b[0m             )\n\u001b[0;32m    373\u001b[0m \u001b[38;5;28;01mtry\u001b[39;00m:\n\u001b[1;32m--> 374\u001b[0m     result \u001b[38;5;241m=\u001b[39m \u001b[38;5;28;43mself\u001b[39;49m\u001b[38;5;241;43m.\u001b[39;49m\u001b[43m_cnx\u001b[49m\u001b[38;5;241;43m.\u001b[39;49m\u001b[43mcmd_query\u001b[49m\u001b[43m(\u001b[49m\n\u001b[0;32m    375\u001b[0m \u001b[43m        \u001b[49m\u001b[43mstmt\u001b[49m\u001b[43m,\u001b[49m\n\u001b[0;32m    376\u001b[0m \u001b[43m        \u001b[49m\u001b[43mraw\u001b[49m\u001b[38;5;241;43m=\u001b[39;49m\u001b[38;5;28;43mself\u001b[39;49m\u001b[38;5;241;43m.\u001b[39;49m\u001b[43m_raw\u001b[49m\u001b[43m,\u001b[49m\n\u001b[0;32m    377\u001b[0m \u001b[43m        \u001b[49m\u001b[43mbuffered\u001b[49m\u001b[38;5;241;43m=\u001b[39;49m\u001b[38;5;28;43mself\u001b[39;49m\u001b[38;5;241;43m.\u001b[39;49m\u001b[43m_buffered\u001b[49m\u001b[43m,\u001b[49m\n\u001b[0;32m    378\u001b[0m \u001b[43m        \u001b[49m\u001b[43mraw_as_string\u001b[49m\u001b[38;5;241;43m=\u001b[39;49m\u001b[38;5;28;43mself\u001b[39;49m\u001b[38;5;241;43m.\u001b[39;49m\u001b[43m_raw_as_string\u001b[49m\u001b[43m,\u001b[49m\n\u001b[0;32m    379\u001b[0m \u001b[43m    \u001b[49m\u001b[43m)\u001b[49m\n\u001b[0;32m    380\u001b[0m \u001b[38;5;28;01mexcept\u001b[39;00m MySQLInterfaceError \u001b[38;5;28;01mas\u001b[39;00m err:\n\u001b[0;32m    381\u001b[0m     \u001b[38;5;28;01mraise\u001b[39;00m get_mysql_exception(\n\u001b[0;32m    382\u001b[0m         msg\u001b[38;5;241m=\u001b[39merr\u001b[38;5;241m.\u001b[39mmsg, errno\u001b[38;5;241m=\u001b[39merr\u001b[38;5;241m.\u001b[39merrno, sqlstate\u001b[38;5;241m=\u001b[39merr\u001b[38;5;241m.\u001b[39msqlstate\n\u001b[0;32m    383\u001b[0m     ) \u001b[38;5;28;01mfrom\u001b[39;00m \u001b[38;5;21;01merr\u001b[39;00m\n",
      "File \u001b[1;32m~\\anaconda3\\lib\\site-packages\\mysql\\connector\\opentelemetry\\context_propagation.py:74\u001b[0m, in \u001b[0;36mwith_context_propagation.<locals>.wrapper\u001b[1;34m(cnx, *args, **kwargs)\u001b[0m\n\u001b[0;32m     72\u001b[0m \u001b[38;5;250m\u001b[39m\u001b[38;5;124;03m\"\"\"Context propagation decorator.\"\"\"\u001b[39;00m\n\u001b[0;32m     73\u001b[0m \u001b[38;5;28;01mif\u001b[39;00m \u001b[38;5;129;01mnot\u001b[39;00m OTEL_ENABLED \u001b[38;5;129;01mor\u001b[39;00m \u001b[38;5;129;01mnot\u001b[39;00m cnx\u001b[38;5;241m.\u001b[39motel_context_propagation:\n\u001b[1;32m---> 74\u001b[0m     \u001b[38;5;28;01mreturn\u001b[39;00m method(cnx, \u001b[38;5;241m*\u001b[39margs, \u001b[38;5;241m*\u001b[39m\u001b[38;5;241m*\u001b[39mkwargs)\n\u001b[0;32m     76\u001b[0m current_span \u001b[38;5;241m=\u001b[39m trace\u001b[38;5;241m.\u001b[39mget_current_span()\n\u001b[0;32m     77\u001b[0m tp_header \u001b[38;5;241m=\u001b[39m \u001b[38;5;28;01mNone\u001b[39;00m\n",
      "File \u001b[1;32m~\\anaconda3\\lib\\site-packages\\mysql\\connector\\connection_cext.py:669\u001b[0m, in \u001b[0;36mCMySQLConnection.cmd_query\u001b[1;34m(self, query, raw, buffered, raw_as_string)\u001b[0m\n\u001b[0;32m    661\u001b[0m     \u001b[38;5;28mself\u001b[39m\u001b[38;5;241m.\u001b[39m_cmysql\u001b[38;5;241m.\u001b[39mquery(\n\u001b[0;32m    662\u001b[0m         query,\n\u001b[0;32m    663\u001b[0m         raw\u001b[38;5;241m=\u001b[39mraw,\n\u001b[1;32m   (...)\u001b[0m\n\u001b[0;32m    666\u001b[0m         query_attrs\u001b[38;5;241m=\u001b[39m\u001b[38;5;28mself\u001b[39m\u001b[38;5;241m.\u001b[39mquery_attrs,\n\u001b[0;32m    667\u001b[0m     )\n\u001b[0;32m    668\u001b[0m \u001b[38;5;28;01mexcept\u001b[39;00m MySQLInterfaceError \u001b[38;5;28;01mas\u001b[39;00m err:\n\u001b[1;32m--> 669\u001b[0m     \u001b[38;5;28;01mraise\u001b[39;00m get_mysql_exception(\n\u001b[0;32m    670\u001b[0m         err\u001b[38;5;241m.\u001b[39merrno, msg\u001b[38;5;241m=\u001b[39merr\u001b[38;5;241m.\u001b[39mmsg, sqlstate\u001b[38;5;241m=\u001b[39merr\u001b[38;5;241m.\u001b[39msqlstate\n\u001b[0;32m    671\u001b[0m     ) \u001b[38;5;28;01mfrom\u001b[39;00m \u001b[38;5;21;01merr\u001b[39;00m\n\u001b[0;32m    672\u001b[0m \u001b[38;5;28;01mexcept\u001b[39;00m \u001b[38;5;167;01mAttributeError\u001b[39;00m \u001b[38;5;28;01mas\u001b[39;00m err:\n\u001b[0;32m    673\u001b[0m     addr \u001b[38;5;241m=\u001b[39m (\n\u001b[0;32m    674\u001b[0m         \u001b[38;5;28mself\u001b[39m\u001b[38;5;241m.\u001b[39m_unix_socket \u001b[38;5;28;01mif\u001b[39;00m \u001b[38;5;28mself\u001b[39m\u001b[38;5;241m.\u001b[39m_unix_socket \u001b[38;5;28;01melse\u001b[39;00m \u001b[38;5;124mf\u001b[39m\u001b[38;5;124m\"\u001b[39m\u001b[38;5;132;01m{\u001b[39;00m\u001b[38;5;28mself\u001b[39m\u001b[38;5;241m.\u001b[39m_host\u001b[38;5;132;01m}\u001b[39;00m\u001b[38;5;124m:\u001b[39m\u001b[38;5;132;01m{\u001b[39;00m\u001b[38;5;28mself\u001b[39m\u001b[38;5;241m.\u001b[39m_port\u001b[38;5;132;01m}\u001b[39;00m\u001b[38;5;124m\"\u001b[39m\n\u001b[0;32m    675\u001b[0m     )\n",
      "\u001b[1;31mProgrammingError\u001b[0m: 1064 (42000): You have an error in your SQL syntax; check the manual that corresponds to your MySQL server version for the right syntax to use near '65d75a2ce09e67e025e8cd30',)' order by driving_distance asc' at line 1"
     ]
    }
   ],
   "source": [
    "minEIs, eiDF = runAlgo1(ei_ids, eiDF)"
   ]
  },
  {
   "cell_type": "code",
   "execution_count": null,
   "id": "d8493c90-9cf7-46c9-97cb-fb12403a972e",
   "metadata": {
    "tags": []
   },
   "outputs": [],
   "source": [
    "print(type(ei_ids))\n",
    "print(type(minEIs))\n",
    "print(ei_ids[0])\n",
    "print(minEIs[0])"
   ]
  },
  {
   "cell_type": "code",
   "execution_count": null,
   "id": "91142233-acb7-4ffe-a3be-c21047a75fa9",
   "metadata": {
    "scrolled": true,
    "tags": []
   },
   "outputs": [],
   "source": [
    "minEIs, eiDF = runAlgo1(minEIs, eiDF)"
   ]
  },
  {
   "cell_type": "code",
   "execution_count": null,
   "id": "6c6e10eb-f018-437f-abb7-1edb3b6036ad",
   "metadata": {
    "scrolled": true,
    "tags": []
   },
   "outputs": [],
   "source": [
    "minEIs, eiDF = runAlgo1(minEIs, eiDF)"
   ]
  },
  {
   "cell_type": "code",
   "execution_count": null,
   "id": "0080e219-fc16-4f6e-869b-2a4737e25321",
   "metadata": {
    "scrolled": true,
    "tags": []
   },
   "outputs": [],
   "source": [
    "minEIs, eiDF = runAlgo1(minEIs, eiDF)"
   ]
  },
  {
   "cell_type": "code",
   "execution_count": null,
   "id": "21fd53a5-df2d-45d4-ab4c-5d9002057cbf",
   "metadata": {
    "scrolled": true,
    "tags": []
   },
   "outputs": [],
   "source": [
    "minEIs, eiDF = runAlgo1(minEIs, eiDF)"
   ]
  },
  {
   "cell_type": "code",
   "execution_count": null,
   "id": "f4e49858-dc7e-4c20-8a54-ae49ca623fe6",
   "metadata": {
    "scrolled": true,
    "tags": []
   },
   "outputs": [],
   "source": [
    "minEIs, eiDF = runAlgo1(minEIs, eiDF)"
   ]
  },
  {
   "cell_type": "code",
   "execution_count": null,
   "id": "fdcdf69e-1f4b-452a-abe2-dc74ff4bb27f",
   "metadata": {
    "scrolled": true,
    "tags": []
   },
   "outputs": [],
   "source": [
    "minEIs, eiDF = runAlgo1(minEIs, eiDF)"
   ]
  },
  {
   "cell_type": "code",
   "execution_count": null,
   "id": "4c40e3b3-42c0-4755-a01f-a62c5c058ede",
   "metadata": {
    "scrolled": true,
    "tags": []
   },
   "outputs": [],
   "source": [
    "minEIs, eiDF = runAlgo1(minEIs, eiDF)"
   ]
  },
  {
   "cell_type": "code",
   "execution_count": null,
   "id": "e932c671-89ab-47dc-9a58-219a9e09db02",
   "metadata": {
    "scrolled": true,
    "tags": []
   },
   "outputs": [],
   "source": [
    "minEIs, eiDF = runAlgo1(minEIs, eiDF)"
   ]
  },
  {
   "cell_type": "code",
   "execution_count": null,
   "id": "18e6c534-12d7-4a79-94c6-f0837e529294",
   "metadata": {
    "scrolled": true,
    "tags": []
   },
   "outputs": [],
   "source": [
    "minEIs, eiDF = runAlgo1(minEIs, eiDF)"
   ]
  },
  {
   "cell_type": "code",
   "execution_count": null,
   "id": "b6c5b52c-e30b-4516-afd8-ebdb4b4c8394",
   "metadata": {
    "scrolled": true,
    "tags": []
   },
   "outputs": [],
   "source": [
    "minEIs, eiDF = runAlgo1(minEIs, eiDF)"
   ]
  },
  {
   "cell_type": "code",
   "execution_count": null,
   "id": "680e95f1-3931-4075-8084-4db10661c39f",
   "metadata": {
    "scrolled": true,
    "tags": []
   },
   "outputs": [],
   "source": [
    "minEIs, eiDF = runAlgo1(minEIs, eiDF)"
   ]
  },
  {
   "cell_type": "code",
   "execution_count": null,
   "id": "f5497597-e354-4195-a4d8-93dd3c66c151",
   "metadata": {
    "scrolled": true,
    "tags": []
   },
   "outputs": [],
   "source": [
    "minEIs, eiDF = runAlgo1(minEIs, eiDF)"
   ]
  },
  {
   "cell_type": "code",
   "execution_count": null,
   "id": "57771432-1f42-4280-bfff-26a0014fd8cd",
   "metadata": {
    "scrolled": true,
    "tags": []
   },
   "outputs": [],
   "source": [
    "minEIs, eiDF = runAlgo1(minEIs, eiDF)"
   ]
  },
  {
   "cell_type": "code",
   "execution_count": null,
   "id": "520ca3bc-aaf6-40c6-ba60-33c8810fb46e",
   "metadata": {
    "scrolled": true,
    "tags": []
   },
   "outputs": [],
   "source": [
    "minEIs, eiDF = runAlgo1(minEIs, eiDF)"
   ]
  },
  {
   "cell_type": "code",
   "execution_count": null,
   "id": "f6ee22e4-e982-4e26-80bf-0f6a3b11fda7",
   "metadata": {
    "tags": []
   },
   "outputs": [],
   "source": [
    "minEIs, eiDF = runAlgo1(minEIs, eiDF)"
   ]
  },
  {
   "cell_type": "code",
   "execution_count": null,
   "id": "afda6297-8d40-4ada-8afb-2381a55e0032",
   "metadata": {
    "tags": []
   },
   "outputs": [],
   "source": [
    "cursor.close()\n",
    "connection.close()"
   ]
  },
  {
   "cell_type": "code",
   "execution_count": null,
   "id": "cabe4d35-80fb-4970-af9c-455106ba5bb0",
   "metadata": {},
   "outputs": [],
   "source": []
  }
 ],
 "metadata": {
  "kernelspec": {
   "display_name": "Python 3 (ipykernel)",
   "language": "python",
   "name": "python3"
  },
  "language_info": {
   "codemirror_mode": {
    "name": "ipython",
    "version": 3
   },
   "file_extension": ".py",
   "mimetype": "text/x-python",
   "name": "python",
   "nbconvert_exporter": "python",
   "pygments_lexer": "ipython3",
   "version": "3.9.18"
  }
 },
 "nbformat": 4,
 "nbformat_minor": 5
}
