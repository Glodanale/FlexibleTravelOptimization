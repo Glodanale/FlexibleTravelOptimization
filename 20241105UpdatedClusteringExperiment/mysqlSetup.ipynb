{
 "cells": [
  {
   "cell_type": "code",
   "execution_count": 1,
   "metadata": {},
   "outputs": [],
   "source": [
    "import mysql.connector"
   ]
  },
  {
   "cell_type": "code",
   "execution_count": 2,
   "metadata": {},
   "outputs": [],
   "source": [
    "# Connection details\n",
    "connection1 = mysql.connector.connect(\n",
    "    host=\"localhost\",\n",
    "    port=3306,\n",
    "    user=\"root\",\n",
    "    database=\"expanding_horizons\",\n",
    "    password=\"dB79*dG2024!\"\n",
    ")\n",
    "\n",
    "cursor1 = connection1.cursor()"
   ]
  },
  {
   "cell_type": "code",
   "execution_count": 3,
   "metadata": {},
   "outputs": [
    {
     "name": "stdout",
     "output_type": "stream",
     "text": [
      "Table 'ld_01' created and data copied successfully.\n",
      "Table 'ld_02' created and data copied successfully.\n",
      "Table 'ld_03' created and data copied successfully.\n",
      "Table 'ld_04' created and data copied successfully.\n",
      "Table 'ld_05' created and data copied successfully.\n",
      "Table 'ld_06' created and data copied successfully.\n",
      "Table 'ld_07' created and data copied successfully.\n",
      "Table 'ld_08' created and data copied successfully.\n",
      "Table 'ld_09' created and data copied successfully.\n",
      "Table 'ld_10' created and data copied successfully.\n",
      "Table 'ld_11' created and data copied successfully.\n",
      "Table 'ld_12' created and data copied successfully.\n",
      "Table 'ld_13' created and data copied successfully.\n",
      "Table 'ld_14' created and data copied successfully.\n",
      "Table 'ld_15' created and data copied successfully.\n",
      "Table 'ld_16' created and data copied successfully.\n",
      "Table 'ld_17' created and data copied successfully.\n",
      "Table 'ld_18' created and data copied successfully.\n",
      "Table 'ld_19' created and data copied successfully.\n",
      "Table 'ld_20' created and data copied successfully.\n",
      "Table 'ld_21' created and data copied successfully.\n",
      "Table 'ld_22' created and data copied successfully.\n",
      "Table 'ld_23' created and data copied successfully.\n",
      "Table 'ld_24' created and data copied successfully.\n",
      "Table 'ld_25' created and data copied successfully.\n",
      "Table 'ld_26' created and data copied successfully.\n",
      "Table 'ld_27' created and data copied successfully.\n",
      "Table 'ld_28' created and data copied successfully.\n",
      "Table 'ld_29' created and data copied successfully.\n",
      "Table 'ld_30' created and data copied successfully.\n",
      "Table 'ld_31' created and data copied successfully.\n",
      "Table 'ld_32' created and data copied successfully.\n",
      "Table 'ld_33' created and data copied successfully.\n",
      "Table 'ld_34' created and data copied successfully.\n",
      "Table 'ld_35' created and data copied successfully.\n",
      "Table 'ld_36' created and data copied successfully.\n",
      "Table 'ld_37' created and data copied successfully.\n",
      "Table 'ld_38' created and data copied successfully.\n",
      "Table 'ld_39' created and data copied successfully.\n",
      "Table 'ld_40' created and data copied successfully.\n",
      "Table 'ld_41' created and data copied successfully.\n",
      "Table 'ld_42' created and data copied successfully.\n",
      "Table 'ld_43' created and data copied successfully.\n",
      "Table 'ld_44' created and data copied successfully.\n",
      "Table 'ld_45' created and data copied successfully.\n",
      "Table 'ld_46' created and data copied successfully.\n",
      "Table 'ld_47' created and data copied successfully.\n",
      "Table 'ld_48' created and data copied successfully.\n",
      "Table 'ld_49' created and data copied successfully.\n",
      "Table 'ld_50' created and data copied successfully.\n",
      "Table 'ld_51' created and data copied successfully.\n",
      "Connection closed.\n"
     ]
    }
   ],
   "source": [
    "try:\n",
    "    # Loop to create 51 duplicate tables\n",
    "    for index in range(1, 52):  # Generate indices from 1 to 51\n",
    "        # Generate the table name based on the naming convention\n",
    "        if index < 10:\n",
    "            table_name = f\"ld_0{index}\"\n",
    "        else:\n",
    "            table_name = f\"ld_{index}\"\n",
    "        \n",
    "        # SQL to create a duplicate table\n",
    "        sql_create_table = f\"CREATE TABLE {table_name} LIKE locationdata\"\n",
    "        sql_copy_data = f\"INSERT INTO {table_name} SELECT * FROM locationdata\"\n",
    "\n",
    "        # Execute the SQL commands\n",
    "        cursor1.execute(sql_create_table)\n",
    "        cursor1.execute(sql_copy_data)\n",
    "        print(f\"Table '{table_name}' created and data copied successfully.\")\n",
    "\n",
    "    # Commit changes\n",
    "    connection1.commit()\n",
    "\n",
    "except mysql.connector.Error as err:\n",
    "    print(f\"Error: {err}\")\n",
    "    connection1.rollback()\n",
    "\n",
    "finally:\n",
    "    # Close cursor and connection\n",
    "    cursor1.close()\n",
    "    connection1.close()\n",
    "    print(\"Connection closed.\")"
   ]
  }
 ],
 "metadata": {
  "kernelspec": {
   "display_name": "cap",
   "language": "python",
   "name": "python3"
  },
  "language_info": {
   "codemirror_mode": {
    "name": "ipython",
    "version": 3
   },
   "file_extension": ".py",
   "mimetype": "text/x-python",
   "name": "python",
   "nbconvert_exporter": "python",
   "pygments_lexer": "ipython3",
   "version": "3.12.7"
  }
 },
 "nbformat": 4,
 "nbformat_minor": 2
}
