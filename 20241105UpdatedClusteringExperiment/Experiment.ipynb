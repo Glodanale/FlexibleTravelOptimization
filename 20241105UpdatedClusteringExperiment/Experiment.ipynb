{
 "cells": [
  {
   "cell_type": "code",
   "execution_count": null,
   "metadata": {},
   "outputs": [],
   "source": [
    "import pandas as pd\n",
    "import numpy as np\n",
    "import ChildDFs\n",
    "import clusterSets\n",
    "import ExecuteAllocation\n",
    "import randomAllo\n",
    "import TrueDistanceAllocation\n",
    "import ClusterMetrics\n",
    "import RouteGeneration"
   ]
  },
  {
   "cell_type": "code",
   "execution_count": null,
   "metadata": {},
   "outputs": [],
   "source": [
    "def evaluateAllocation(table):\n",
    "    silhouetteE, db_index, ch_index, wcssE = ClusterMetrics.runClusterMetrics(table)\n",
    "    accuracy, mutual_info, confusion_matrix = ClusterMetrics.relationMetrics(\"locationdatareal\", table)\n",
    "    min_distance, min_time, average_distance, average_time, max_distance, max_time, var_distance, var_time = RouteGeneration.calculateDistances(table)\n",
    "\n",
    "    new_row = {\n",
    "            \"Algorithm\" : table,\n",
    "            \"Silhouette_Score_Euclidean\" : silhouetteE,\n",
    "            \"Davies-Bouldin\" : db_index,\n",
    "            \"Calinski-Herabasz\" : ch_index,\n",
    "            \"WCSS_Euclidean\" : wcssE,\n",
    "            \"Mutual_Info\" : mutual_info,\n",
    "            \"Accuracy\" : accuracy,\n",
    "            \"Route_Dist_Min\" : min_distance,\n",
    "            \"Route_Time_Min\" : min_time,\n",
    "            \"Route_Dist_Avg\" : average_distance,\n",
    "            \"Route_Time_Avg\" : average_time,\n",
    "            \"Route_Dist_Max\" : max_distance,\n",
    "            \"Route_Time_Max\" : max_time,\n",
    "            \"Route_Dist_Var\" : var_distance,\n",
    "            \"Route_Time_Var\" : var_time\n",
    "    }\n",
    "\n",
    "    print(new_row)\n",
    "    print(\"\\n\\n\\n\\n\\n\")\n",
    "    \n",
    "    return new_row"
   ]
  },
  {
   "cell_type": "code",
   "execution_count": null,
   "metadata": {},
   "outputs": [],
   "source": [
    "def clusterExecution(center, strategy, childList, capacity, table):\n",
    "    if center == \"eil\": # EI Location\n",
    "        clusters = clusterSets.eiLocationClusters()\n",
    "    elif center == \"rccu\": # Real Cluster Center Uniform\n",
    "        clusters = clusterSets.clusterRealUniform()\n",
    "    elif center == \"rccw\":  # Real Cluster Center Weighted\n",
    "        clusters = clusterSets.clusterRealWeighted()\n",
    "    else:\n",
    "        print(\"Incorrect Cluster Center Option\")\n",
    "\n",
    "    if clusters:\n",
    "        if strategy == \"uniform\":\n",
    "            if capacity == \"none\":\n",
    "                childDF = ExecuteAllocation.uniformAllocationNoCap(childList, clusters, table)\n",
    "            elif capacity == \"uniform\":\n",
    "                childDF = ExecuteAllocation.uniformAllocationUniform(childList, clusters, table)\n",
    "            elif capacity == \"real\":\n",
    "                childDF = ExecuteAllocation.uniformAllocationRealCap(childList, clusters, table)\n",
    "            else:\n",
    "                print(\"Incorrect Capacity Option\")\n",
    "        elif strategy == \"weighted\":\n",
    "            if capacity == \"none\":\n",
    "                childDF = ExecuteAllocation.weightedAllocationNoCap(childList, clusters, table)\n",
    "            elif capacity == \"uniform\":\n",
    "                childDF = ExecuteAllocation.weightedAllocationUniform(childList, clusters, table)\n",
    "            elif capacity == \"real\":\n",
    "                childDF = ExecuteAllocation.weightedAllocationRealCap(childList, clusters, table)\n",
    "            else:\n",
    "                print(\"Incorrect Capacity Option\")\n",
    "        else:\n",
    "            print(\"Incorrect Strategy Option\")\n",
    "\n",
    "        if childDF:\n",
    "            df = evaluateAllocation(table)\n",
    "\n",
    "            return df\n",
    "        \n",
    "        return \"\"\n",
    "    \n",
    "    return \"\""
   ]
  },
  {
   "cell_type": "code",
   "execution_count": null,
   "metadata": {},
   "outputs": [],
   "source": [
    "def distanceNoCapAlgo(table):   # Algorithm01\n",
    "    TrueDistanceAllocation.distanceNoCap(table)\n",
    "    df = evaluateAllocation(table)\n",
    "\n",
    "    return df"
   ]
  },
  {
   "cell_type": "code",
   "execution_count": null,
   "metadata": {},
   "outputs": [],
   "source": [
    "def randomUniCap(table):    # Algorithm05\n",
    "    randomAllo.randomUniformCap(table)\n",
    "    df = evaluateAllocation(table)\n",
    "\n",
    "    return df"
   ]
  },
  {
   "cell_type": "code",
   "execution_count": null,
   "metadata": {},
   "outputs": [],
   "source": [
    "def distUniCap(childList, table):   # Algorithm06, Algorithm07, Algorithm08\n",
    "    TrueDistanceAllocation.distanceUniformCap(childList, table)\n",
    "    df = evaluateAllocation(table)\n",
    "\n",
    "    return df"
   ]
  },
  {
   "cell_type": "code",
   "execution_count": null,
   "metadata": {},
   "outputs": [],
   "source": [
    "def randomRealCap(table):   # Algorithm18\n",
    "    randomAllo.randomRealCap(table)\n",
    "    df = evaluateAllocation(table)\n",
    "\n",
    "    return df"
   ]
  },
  {
   "cell_type": "code",
   "execution_count": null,
   "metadata": {},
   "outputs": [],
   "source": [
    "def randomGeneration():\n",
    "    algo02 = []\n",
    "    algo05 = []\n",
    "    algo08 = []\n",
    "    algo11 = []\n",
    "    algo14 = []\n",
    "    algo17 = []\n",
    "    algo20 = []\n",
    "    algo23 = []\n",
    "    algo24 = []\n",
    "    algo27 = []\n",
    "    algo30 = []\n",
    "    algo33 = []\n",
    "    algo36 = []\n",
    "    algo39 = []\n",
    "    algo42 = []\n",
    "    algo45 = []\n",
    "    algo46 = []\n",
    "    algo49 = []\n",
    "    algo52 = []\n",
    "    algo55 = []\n",
    "    algo58 = []\n",
    "    algo61 = []\n",
    "\n",
    "    for i in range(0, 10):\n",
    "        shuffleChild = ChildDFs.childDFRandomSort()\n",
    "        \n",
    "        df02 = clusterExecution(\"eil\", \"uniform\", shuffleChild, \"none\", \"ld_02\")\n",
    "\n",
    "\n",
    "        print(f\"Index {i} complete\\n\\n\\n\")\n",
    "\n",
    "    resultDF = []\n",
    "    algo05 = pd.DataFrame(algo05)\n",
    "    algo06 = pd.DataFrame(algo06)\n",
    "    algo09 = pd.DataFrame(algo09)\n",
    "    algo12 = pd.DataFrame(algo12)\n",
    "    algo15 = pd.DataFrame(algo15)\n",
    "    algo18 = pd.DataFrame(algo18)\n",
    "    algo19 = pd.DataFrame(algo19)\n",
    "    algo22 = pd.DataFrame(algo22)\n",
    "    algo25 = pd.DataFrame(algo25)\n",
    "    algo28 = pd.DataFrame(algo28)\n",
    "\n",
    "    df_list = [algo05, algo06, algo09, algo12, algo15, algo18, algo19, algo22, algo25, algo28]\n",
    "\n",
    "    for df in df_list:\n",
    "        algorithm_name = df.loc[0, \"Algorithm\"]\n",
    "        print(f\"Algorithm_Name: {algorithm_name}\")\n",
    "        df.drop(columns=[\"Algorithm\"], inplace=True)\n",
    "        average_row = df.mean(axis=0)\n",
    "        average_row[\"Algorithm\"] = algorithm_name\n",
    "        resultDF.append(average_row)\n",
    "    \n",
    "    resultDF = pd.DataFrame(resultDF)\n",
    "\n",
    "    return resultDF"
   ]
  },
  {
   "cell_type": "code",
   "execution_count": null,
   "metadata": {},
   "outputs": [],
   "source": [
    "result_list = []\n",
    "distanceChild = ChildDFs.childDFDistanceSort()\n",
    "Zchild = ChildDFs.childDFZsort()"
   ]
  },
  {
   "cell_type": "code",
   "execution_count": null,
   "metadata": {},
   "outputs": [],
   "source": [
    "resultDF = randomGeneration()"
   ]
  },
  {
   "cell_type": "code",
   "execution_count": null,
   "metadata": {},
   "outputs": [],
   "source": [
    "row = evaluateAllocation(\"locationdatareal\")\n",
    "result_list.append(row)"
   ]
  },
  {
   "cell_type": "code",
   "execution_count": null,
   "metadata": {},
   "outputs": [],
   "source": [
    "row = distanceNoCapAlgo(\"ld_01\")\n",
    "result_list.append(row)"
   ]
  },
  {
   "cell_type": "code",
   "execution_count": null,
   "metadata": {},
   "outputs": [],
   "source": [
    "row = eiLocNoCap(distanceChild, \"ld_02\")\n",
    "result_list.append(row)"
   ]
  },
  {
   "cell_type": "code",
   "execution_count": null,
   "metadata": {},
   "outputs": [],
   "source": [
    "row = realCCUniformNoCap(distanceChild, \"ld_03\")\n",
    "result_list.append(row)"
   ]
  },
  {
   "cell_type": "code",
   "execution_count": null,
   "metadata": {},
   "outputs": [],
   "source": [
    "row = realCCWeightedNoCap(distanceChild, \"ld_04\")\n",
    "result_list.append(row)"
   ]
  },
  {
   "cell_type": "code",
   "execution_count": null,
   "metadata": {},
   "outputs": [],
   "source": [
    "row = distUniCap(distanceChild, \"ld_07\")\n",
    "result_list.append(row)"
   ]
  },
  {
   "cell_type": "code",
   "execution_count": null,
   "metadata": {},
   "outputs": [],
   "source": [
    "row = distUniCap(Zchild, \"ld_08\")\n",
    "result_list.append(row)"
   ]
  },
  {
   "cell_type": "code",
   "execution_count": null,
   "metadata": {},
   "outputs": [],
   "source": [
    "row = eilocUniCap(distanceChild, \"ld_10\")\n",
    "result_list.append(row)"
   ]
  },
  {
   "cell_type": "code",
   "execution_count": null,
   "metadata": {},
   "outputs": [],
   "source": [
    "row = eilocUniCap(Zchild, \"ld_11\")\n",
    "result_list.append(row)"
   ]
  },
  {
   "cell_type": "code",
   "execution_count": null,
   "metadata": {},
   "outputs": [],
   "source": [
    "row = realCCUniUniCap(distanceChild, \"ld_13\")\n",
    "result_list.append(row)"
   ]
  },
  {
   "cell_type": "code",
   "execution_count": null,
   "metadata": {},
   "outputs": [],
   "source": [
    "row = realCCUniUniCap(Zchild, \"ld_14\")\n",
    "result_list.append(row)"
   ]
  },
  {
   "cell_type": "code",
   "execution_count": null,
   "metadata": {},
   "outputs": [],
   "source": [
    "row = realCCWeightUniCap(distanceChild, \"ld_16\")\n",
    "result_list.append(row)"
   ]
  },
  {
   "cell_type": "code",
   "execution_count": null,
   "metadata": {},
   "outputs": [],
   "source": [
    "row = realCCWeightUniCap(Zchild, \"ld_17\")\n",
    "result_list.append(row)"
   ]
  },
  {
   "cell_type": "code",
   "execution_count": null,
   "metadata": {},
   "outputs": [],
   "source": [
    "row = distRealCap(distanceChild, \"ld_20\")\n",
    "result_list.append(row)"
   ]
  },
  {
   "cell_type": "code",
   "execution_count": null,
   "metadata": {},
   "outputs": [],
   "source": [
    "row = distRealCap(Zchild, \"ld_21\")\n",
    "result_list.append(row)"
   ]
  },
  {
   "cell_type": "code",
   "execution_count": null,
   "metadata": {},
   "outputs": [],
   "source": [
    "row = eilocRealCap(distanceChild, \"ld_23\")\n",
    "result_list.append(row)"
   ]
  },
  {
   "cell_type": "code",
   "execution_count": null,
   "metadata": {},
   "outputs": [],
   "source": [
    "row = eilocRealCap(Zchild, \"ld_24\")\n",
    "result_list.append(row)"
   ]
  },
  {
   "cell_type": "code",
   "execution_count": null,
   "metadata": {},
   "outputs": [],
   "source": [
    "row = realCCUniRealCap(distanceChild, \"ld_26\")\n",
    "result_list.append(row)"
   ]
  },
  {
   "cell_type": "code",
   "execution_count": null,
   "metadata": {},
   "outputs": [],
   "source": [
    "row = realCCUniRealCap(Zchild, \"ld_27\")\n",
    "result_list.append(row)"
   ]
  },
  {
   "cell_type": "code",
   "execution_count": null,
   "metadata": {},
   "outputs": [],
   "source": [
    "row = realCCWeightRealCap(distanceChild, \"ld_29\")\n",
    "result_list.append(row)"
   ]
  },
  {
   "cell_type": "code",
   "execution_count": null,
   "metadata": {},
   "outputs": [],
   "source": [
    "row = realCCWeightRealCap(Zchild, \"ld_30\")\n",
    "result_list.append(row)"
   ]
  },
  {
   "cell_type": "code",
   "execution_count": null,
   "metadata": {},
   "outputs": [],
   "source": [
    "result_list = pd.DataFrame(result_list)\n",
    "final_results = pd.concat([resultDF, result_list], ignore_index=True)\n",
    "print(final_results)"
   ]
  },
  {
   "cell_type": "code",
   "execution_count": null,
   "metadata": {},
   "outputs": [],
   "source": [
    "final_results.to_csv(\"GeneralResults.csv\", index=False)"
   ]
  }
 ],
 "metadata": {
  "kernelspec": {
   "display_name": "Python 3",
   "language": "python",
   "name": "python3"
  },
  "language_info": {
   "codemirror_mode": {
    "name": "ipython",
    "version": 3
   },
   "file_extension": ".py",
   "mimetype": "text/x-python",
   "name": "python",
   "nbconvert_exporter": "python",
   "pygments_lexer": "ipython3",
   "version": "3.12.4"
  }
 },
 "nbformat": 4,
 "nbformat_minor": 2
}
