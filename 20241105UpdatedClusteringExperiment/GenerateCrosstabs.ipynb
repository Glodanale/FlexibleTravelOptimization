{
 "cells": [
  {
   "cell_type": "code",
   "execution_count": 1,
   "id": "cf4cc2dd-66ca-45eb-9122-9410071fa237",
   "metadata": {
    "tags": []
   },
   "outputs": [],
   "source": [
    "import pandas as pd\n",
    "import numpy as np\n",
    "import ClusterMetrics"
   ]
  },
  {
   "cell_type": "code",
   "execution_count": 2,
   "id": "13c5716c-01d7-4026-8663-352b431bb710",
   "metadata": {
    "tags": []
   },
   "outputs": [],
   "source": [
    "crosstabs = []\n",
    "accuracies = []"
   ]
  },
  {
   "cell_type": "code",
   "execution_count": null,
   "id": "9dbea6ec-3694-46c5-b1bf-68c7a87a7325",
   "metadata": {
    "scrolled": true,
    "tags": []
   },
   "outputs": [],
   "source": [
    "accuracy, mutual_info, confusion_matrix = ClusterMetrics.relationMetrics(\"locationdataalgo4\", \"locationdatareal\")\n",
    "myCrossTab = (\"Algo4vsReal\", confusion_matrix)\n",
    "crosstabs.append(myCrossTab)\n",
    "myAccuracy = (\"Algo4vsReal\", accuracy)\n",
    "accuracies.append(myAccuracy)\n",
    "new_row = {\"ld_04VSld_05\"}"
   ]
  },
  {
   "cell_type": "code",
   "execution_count": null,
   "id": "87122a7a-7ad1-4590-a0b0-478e0f0f55a6",
   "metadata": {},
   "outputs": [],
   "source": [
    "accuracy, confusion_matrix = ClusterMetrics.relationMetrics(\"locationdataalgo5\", \"locationdatareal\")\n",
    "myCrossTab = (\"Algo5vsReal\", confusion_matrix)\n",
    "crosstabs.append(myCrossTab)\n",
    "myAccuracy = (\"Algo5vsReal\", accuracy)\n",
    "accuracies.append(myAccuracy)"
   ]
  },
  {
   "cell_type": "code",
   "execution_count": null,
   "id": "f6941226-949a-4d14-a129-1b8a84143a90",
   "metadata": {},
   "outputs": [],
   "source": [
    "accuracy, confusion_matrix = ClusterMetrics.relationMetrics(\"locationdataalgo7\", \"locationdatareal\")\n",
    "myCrossTab = (\"Algo7vsReal\", confusion_matrix)\n",
    "crosstabs.append(myCrossTab)\n",
    "myAccuracy = (\"Algo7vsReal\", accuracy)\n",
    "accuracies.append(myAccuracy)"
   ]
  },
  {
   "cell_type": "code",
   "execution_count": null,
   "id": "21e6855c-28c0-454f-92e8-4ef95a0171eb",
   "metadata": {},
   "outputs": [],
   "source": [
    "accuracy, confusion_matrix = ClusterMetrics.relationMetrics(\"locationdataalgo8\", \"locationdatareal\")\n",
    "myCrossTab = (\"Algo8vsReal\", confusion_matrix)\n",
    "crosstabs.append(myCrossTab)\n",
    "myAccuracy = (\"Algo8vsReal\", accuracy)\n",
    "accuracies.append(myAccuracy)"
   ]
  },
  {
   "cell_type": "code",
   "execution_count": null,
   "id": "033e4195-751c-4c8c-bdb2-7e9b3141dc07",
   "metadata": {},
   "outputs": [],
   "source": [
    "accuracy, confusion_matrix = ClusterMetrics.relationMetrics(\"locationdataalgo10\", \"locationdatareal\")\n",
    "myCrossTab = (\"Algo10vsReal\", confusion_matrix)\n",
    "crosstabs.append(myCrossTab)\n",
    "myAccuracy = (\"Algo10vsReal\", accuracy)\n",
    "accuracies.append(myAccuracy)"
   ]
  },
  {
   "cell_type": "code",
   "execution_count": null,
   "id": "94f26db3-27ec-4ac9-ad13-92bfaf303184",
   "metadata": {},
   "outputs": [],
   "source": [
    "accuracy, confusion_matrix = ClusterMetrics.relationMetrics(\"locationdataalgo11\", \"locationdatareal\")\n",
    "myCrossTab = (\"Algo11vsReal\", confusion_matrix)\n",
    "crosstabs.append(myCrossTab)\n",
    "myAccuracy = (\"Algo11vsReal\", accuracy)\n",
    "accuracies.append(myAccuracy)"
   ]
  },
  {
   "cell_type": "code",
   "execution_count": null,
   "id": "8a0f8553-d3dc-4d2b-a3d6-eaa6181aa5ee",
   "metadata": {},
   "outputs": [],
   "source": [
    "accuracy, confusion_matrix = ClusterMetrics.relationMetrics(\"locationdataalgo13\", \"locationdatareal\")\n",
    "myCrossTab = (\"Algo13vsReal\", confusion_matrix)\n",
    "crosstabs.append(myCrossTab)\n",
    "myAccuracy = (\"Algo13vsReal\", accuracy)\n",
    "accuracies.append(myAccuracy)"
   ]
  },
  {
   "cell_type": "code",
   "execution_count": null,
   "id": "55bb62f5-6783-40e2-ab78-acb42e7974ed",
   "metadata": {},
   "outputs": [],
   "source": [
    "accuracy, confusion_matrix = ClusterMetrics.relationMetrics(\"locationdataalgo14\", \"locationdatareal\")\n",
    "myCrossTab = (\"Algo14vsReal\", confusion_matrix)\n",
    "crosstabs.append(myCrossTab)\n",
    "myAccuracy = (\"Algo14vsReal\", accuracy)\n",
    "accuracies.append(myAccuracy)"
   ]
  },
  {
   "cell_type": "code",
   "execution_count": null,
   "id": "7b682f5a-81df-4462-9b6b-1f36ab6d7035",
   "metadata": {},
   "outputs": [],
   "source": [
    "accuracy, confusion_matrix = ClusterMetrics.relationMetrics(\"locationdataalgo16\", \"locationdatareal\")\n",
    "myCrossTab = (\"Algo16vsReal\", confusion_matrix)\n",
    "crosstabs.append(myCrossTab)\n",
    "myAccuracy = (\"Algo16vsReal\", accuracy)\n",
    "accuracies.append(myAccuracy)"
   ]
  },
  {
   "cell_type": "code",
   "execution_count": null,
   "id": "c07e5bb4-2774-4442-a970-58c0bec5c84c",
   "metadata": {},
   "outputs": [],
   "source": [
    "accuracy, confusion_matrix = ClusterMetrics.relationMetrics(\"locationdataalgo17\", \"locationdatareal\")\n",
    "myCrossTab = (\"Algo17vsReal\", confusion_matrix)\n",
    "crosstabs.append(myCrossTab)\n",
    "myAccuracy = (\"Algo17vsReal\", accuracy)\n",
    "accuracies.append(myAccuracy)"
   ]
  },
  {
   "cell_type": "code",
   "execution_count": null,
   "id": "4bc094a6-36e1-4373-87a5-bf4c2049b1f1",
   "metadata": {},
   "outputs": [],
   "source": [
    "accuracy, confusion_matrix = ClusterMetrics.relationMetrics(\"locationdataalgo19\", \"locationdatareal\")\n",
    "myCrossTab = (\"Algo19vsReal\", confusion_matrix)\n",
    "crosstabs.append(myCrossTab)\n",
    "myAccuracy = (\"Algo19vsReal\", accuracy)\n",
    "accuracies.append(myAccuracy)"
   ]
  },
  {
   "cell_type": "code",
   "execution_count": null,
   "id": "ee87da8f-c7b1-4dd1-a453-608204622512",
   "metadata": {},
   "outputs": [],
   "source": [
    "accuracy, confusion_matrix = ClusterMetrics.relationMetrics(\"locationdataalgo20\", \"locationdatareal\")\n",
    "myCrossTab = (\"Algo20vsReal\", confusion_matrix)\n",
    "crosstabs.append(myCrossTab)\n",
    "myAccuracy = (\"Algo20vsReal\", accuracy)\n",
    "accuracies.append(myAccuracy)"
   ]
  },
  {
   "cell_type": "code",
   "execution_count": null,
   "id": "cd0067d1-53dd-47e8-9209-a6c4fea0c581",
   "metadata": {},
   "outputs": [],
   "source": [
    "for a in accuracies:\n",
    "    print(a)"
   ]
  },
  {
   "cell_type": "code",
   "execution_count": 3,
   "id": "a485a6c1-0462-4fc6-b89f-2b4648cfe620",
   "metadata": {
    "tags": []
   },
   "outputs": [],
   "source": [
    "with pd.ExcelWriter('algovsreal.xlsx', engine='xlsxwriter') as writer:\n",
    "    for ldaresult in crosstabs:\n",
    "        matrix = ldaresult[1]\n",
    "        matrix.to_excel(writer, sheet_name=ldaresult[0], index=True)"
   ]
  },
  {
   "cell_type": "code",
   "execution_count": null,
   "id": "921d79e1-bb77-434f-add2-1e402f69b326",
   "metadata": {
    "tags": []
   },
   "outputs": [],
   "source": [
    "crosstabs = []\n",
    "accuracies = []"
   ]
  },
  {
   "cell_type": "code",
   "execution_count": null,
   "id": "f8637905-a898-494b-a6b5-0c4bc00cd6b1",
   "metadata": {
    "tags": []
   },
   "outputs": [],
   "source": [
    "accuracy, confusion_matrix = ClusterMetrics.relationMetrics(\"locationdataalgo4\", \"locationdataalgo13\")\n",
    "myCrossTab = (\"Algo4vsAlgo13\", confusion_matrix)\n",
    "crosstabs.append(myCrossTab)\n",
    "myAccuracy = (\"Algo4vsAlgo13\", accuracy)\n",
    "accuracies.append(myAccuracy)"
   ]
  },
  {
   "cell_type": "code",
   "execution_count": null,
   "id": "debd8fe0-1075-470f-84d1-27f2e11501ca",
   "metadata": {
    "tags": []
   },
   "outputs": [],
   "source": [
    "accuracy, confusion_matrix = ClusterMetrics.relationMetrics(\"locationdataalgo5\", \"locationdataalgo14\")\n",
    "myCrossTab = (\"Algo5vsAlgo14\", confusion_matrix)\n",
    "crosstabs.append(myCrossTab)\n",
    "myAccuracy = (\"Algo5vsAlgo14\", accuracy)\n",
    "accuracies.append(myAccuracy)"
   ]
  },
  {
   "cell_type": "code",
   "execution_count": null,
   "id": "447e7c1f-08f9-43d6-84ad-27af9b5731a3",
   "metadata": {
    "tags": []
   },
   "outputs": [],
   "source": [
    "accuracy, confusion_matrix = ClusterMetrics.relationMetrics(\"locationdataalgo7\", \"locationdataalgo16\")\n",
    "myCrossTab = (\"Algo7vsAlgo16\", confusion_matrix)\n",
    "crosstabs.append(myCrossTab)\n",
    "myAccuracy = (\"Algo7vsAlgo16\", accuracy)\n",
    "accuracies.append(myAccuracy)"
   ]
  },
  {
   "cell_type": "code",
   "execution_count": null,
   "id": "53098b9f-a742-4550-8852-9a077f26768f",
   "metadata": {
    "tags": []
   },
   "outputs": [],
   "source": [
    "accuracy, confusion_matrix = ClusterMetrics.relationMetrics(\"locationdataalgo8\", \"locationdataalgo17\")\n",
    "myCrossTab = (\"Algo8vsAlgo17\", confusion_matrix)\n",
    "crosstabs.append(myCrossTab)\n",
    "myAccuracy = (\"Algo8vsAlgo17\", accuracy)\n",
    "accuracies.append(myAccuracy)"
   ]
  },
  {
   "cell_type": "code",
   "execution_count": null,
   "id": "6a46b1ed-c8ec-44a9-84ad-3a2eb500c589",
   "metadata": {
    "tags": []
   },
   "outputs": [],
   "source": [
    "accuracy, confusion_matrix = ClusterMetrics.relationMetrics(\"locationdataalgo10\", \"locationdataalgo19\")\n",
    "myCrossTab = (\"Algo10vsAlgo19\", confusion_matrix)\n",
    "crosstabs.append(myCrossTab)\n",
    "myAccuracy = (\"Algo10vsAlgo19\", accuracy)\n",
    "accuracies.append(myAccuracy)"
   ]
  },
  {
   "cell_type": "code",
   "execution_count": null,
   "id": "90a5d365-537e-40e6-91d1-6f1286031fb3",
   "metadata": {
    "tags": []
   },
   "outputs": [],
   "source": [
    "accuracy, confusion_matrix = ClusterMetrics.relationMetrics(\"locationdataalgo11\", \"locationdataalgo20\")\n",
    "myCrossTab = (\"Algo11vsAlgo20\", confusion_matrix)\n",
    "crosstabs.append(myCrossTab)\n",
    "myAccuracy = (\"Algo11vsAlgo20\", accuracy)\n",
    "accuracies.append(myAccuracy)"
   ]
  },
  {
   "cell_type": "code",
   "execution_count": null,
   "id": "e22ee42a-52dd-4fe9-b3ee-7963d513959c",
   "metadata": {
    "tags": []
   },
   "outputs": [],
   "source": [
    "for a in accuracies:\n",
    "    print(a)"
   ]
  },
  {
   "cell_type": "code",
   "execution_count": null,
   "id": "a71102ec-83f4-45e8-bae4-53eec1fe3003",
   "metadata": {
    "tags": []
   },
   "outputs": [],
   "source": [
    "with pd.ExcelWriter('paircompacitycompare.xlsx', engine='xlsxwriter') as writer:\n",
    "    for ldaresult in crosstabs:\n",
    "        matrix = ldaresult[1]\n",
    "        matrix.to_excel(writer, sheet_name=ldaresult[0], index=True)"
   ]
  },
  {
   "cell_type": "code",
   "execution_count": null,
   "id": "f3008749-81b0-438c-be6c-a772d6ccac00",
   "metadata": {
    "tags": []
   },
   "outputs": [],
   "source": [
    "crosstabs = []\n",
    "accuracies = []"
   ]
  },
  {
   "cell_type": "code",
   "execution_count": null,
   "id": "adaf7f7d-26b4-4baf-9441-574542f09944",
   "metadata": {
    "tags": []
   },
   "outputs": [],
   "source": [
    "accuracy, confusion_matrix = ClusterMetrics.relationMetrics(\"locationdataalgo4\", \"locationdataalgo24\")\n",
    "myCrossTab = (\"Algo4vsAlgo24\", confusion_matrix)\n",
    "crosstabs.append(myCrossTab)\n",
    "myAccuracy = (\"Algo4vsAlgo24\", accuracy)\n",
    "accuracies.append(myAccuracy)"
   ]
  },
  {
   "cell_type": "code",
   "execution_count": null,
   "id": "f6936c69-a05d-494a-8164-e59cb69d5b1a",
   "metadata": {
    "tags": []
   },
   "outputs": [],
   "source": [
    "accuracy, confusion_matrix = ClusterMetrics.relationMetrics(\"locationdataalgo7\", \"locationdataalgo24\")\n",
    "myCrossTab = (\"Algo7vsAlgo24\", confusion_matrix)\n",
    "crosstabs.append(myCrossTab)\n",
    "myAccuracy = (\"Algo7vsAlgo24\", accuracy)\n",
    "accuracies.append(myAccuracy)"
   ]
  },
  {
   "cell_type": "code",
   "execution_count": null,
   "id": "fe8144af-0a9e-4dad-a943-fb4b2589afb1",
   "metadata": {},
   "outputs": [],
   "source": [
    "accuracy, confusion_matrix = ClusterMetrics.relationMetrics(\"locationdataalgo10\", \"locationdataalgo24\")\n",
    "myCrossTab = (\"Algo10vsAlgo24\", confusion_matrix)\n",
    "crosstabs.append(myCrossTab)\n",
    "myAccuracy = (\"Algo10vsAlgo24\", accuracy)\n",
    "accuracies.append(myAccuracy)"
   ]
  },
  {
   "cell_type": "code",
   "execution_count": null,
   "id": "ab4a2921-f53c-4f50-a740-f67707733efa",
   "metadata": {},
   "outputs": [],
   "source": [
    "accuracy, confusion_matrix = ClusterMetrics.relationMetrics(\"locationdataalgo13\", \"locationdataalgo24\")\n",
    "myCrossTab = (\"Algo13vsAlgo24\", confusion_matrix)\n",
    "crosstabs.append(myCrossTab)\n",
    "myAccuracy = (\"Algo13vsAlgo24\", accuracy)\n",
    "accuracies.append(myAccuracy)"
   ]
  },
  {
   "cell_type": "code",
   "execution_count": null,
   "id": "3f9041b8-3939-4515-95f6-2e0da33d03f0",
   "metadata": {},
   "outputs": [],
   "source": [
    "accuracy, confusion_matrix = ClusterMetrics.relationMetrics(\"locationdataalgo16\", \"locationdataalgo24\")\n",
    "myCrossTab = (\"Algo16vsAlgo24\", confusion_matrix)\n",
    "crosstabs.append(myCrossTab)\n",
    "myAccuracy = (\"Algo16vsAlgo24\", accuracy)\n",
    "accuracies.append(myAccuracy)"
   ]
  },
  {
   "cell_type": "code",
   "execution_count": null,
   "id": "8463f2f9-1681-4eb0-861e-5a6adf458f24",
   "metadata": {},
   "outputs": [],
   "source": [
    "accuracy, confusion_matrix = ClusterMetrics.relationMetrics(\"locationdataalgo19\", \"locationdataalgo24\")\n",
    "myCrossTab = (\"Algo19vsAlgo24\", confusion_matrix)\n",
    "crosstabs.append(myCrossTab)\n",
    "myAccuracy = (\"Algo19vsAlgo24\", accuracy)\n",
    "accuracies.append(myAccuracy)"
   ]
  },
  {
   "cell_type": "code",
   "execution_count": null,
   "id": "45c51c8f-9300-4453-8c3c-928e7d54c205",
   "metadata": {},
   "outputs": [],
   "source": [
    "for a in accuracies:\n",
    "    print(a)"
   ]
  },
  {
   "cell_type": "code",
   "execution_count": null,
   "id": "9d953abb-2197-47e3-90a7-e4121a97fff3",
   "metadata": {},
   "outputs": [],
   "source": [
    "with pd.ExcelWriter('clustersvspuredistance24.xlsx', engine='xlsxwriter') as writer:\n",
    "    for ldaresult in crosstabs:\n",
    "        matrix = ldaresult[1]\n",
    "        matrix.to_excel(writer, sheet_name=ldaresult[0], index=True)"
   ]
  }
 ],
 "metadata": {
  "kernelspec": {
   "display_name": "cap",
   "language": "python",
   "name": "python3"
  },
  "language_info": {
   "codemirror_mode": {
    "name": "ipython",
    "version": 3
   },
   "file_extension": ".py",
   "mimetype": "text/x-python",
   "name": "python",
   "nbconvert_exporter": "python",
   "pygments_lexer": "ipython3",
   "version": "3.12.7"
  }
 },
 "nbformat": 4,
 "nbformat_minor": 5
}
