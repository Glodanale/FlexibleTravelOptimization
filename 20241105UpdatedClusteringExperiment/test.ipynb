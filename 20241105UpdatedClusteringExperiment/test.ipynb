{
 "cells": [
  {
   "cell_type": "code",
   "execution_count": 1,
   "metadata": {},
   "outputs": [
    {
     "name": "stdout",
     "output_type": "stream",
     "text": [
      "Row 1:\n",
      "feature1    10\n",
      "feature2    30\n",
      "feature3    50\n",
      "Name: 0, dtype: int64\n",
      "\n",
      "Row 2:\n",
      "feature1    20\n",
      "feature2    40\n",
      "feature3    60\n",
      "Name: 1, dtype: int64\n",
      "\n",
      "Sum of Row 1 and Row 2:\n",
      "feature1     30\n",
      "feature2     70\n",
      "feature3    110\n",
      "dtype: int64\n"
     ]
    }
   ],
   "source": [
    "import pandas as pd\n",
    "\n",
    "# Sample DataFrame with columns representing various features\n",
    "data = {\n",
    "    'feature1': [10, 20],\n",
    "    'feature2': [30, 40],\n",
    "    'feature3': [50, 60]\n",
    "}\n",
    "df = pd.DataFrame(data)\n",
    "\n",
    "# Select the two rows you want to add\n",
    "row1 = df.loc[0]\n",
    "row2 = df.loc[1]\n",
    "\n",
    "# Sum the two rows element-wise\n",
    "sum_row = row1.add(row2)\n",
    "\n",
    "print(\"Row 1:\")\n",
    "print(row1)\n",
    "print(\"\\nRow 2:\")\n",
    "print(row2)\n",
    "print(\"\\nSum of Row 1 and Row 2:\")\n",
    "print(sum_row)\n"
   ]
  }
 ],
 "metadata": {
  "kernelspec": {
   "display_name": "base",
   "language": "python",
   "name": "python3"
  },
  "language_info": {
   "codemirror_mode": {
    "name": "ipython",
    "version": 3
   },
   "file_extension": ".py",
   "mimetype": "text/x-python",
   "name": "python",
   "nbconvert_exporter": "python",
   "pygments_lexer": "ipython3",
   "version": "3.12.2"
  }
 },
 "nbformat": 4,
 "nbformat_minor": 2
}
