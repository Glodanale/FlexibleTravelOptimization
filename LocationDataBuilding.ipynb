{
 "cells": [
  {
   "cell_type": "code",
   "execution_count": 1,
   "id": "220dffce-af52-4004-b3fd-13a695246ee3",
   "metadata": {
    "tags": []
   },
   "outputs": [],
   "source": [
    "import pandas as pd\n",
    "import numpy as np\n",
    "from bson import ObjectId\n",
    "\n",
    "import keyring\n",
    "import mysql.connector\n",
    "\n",
    "import arcgis\n",
    "from arcgis.gis import GIS\n",
    "import datetime as dt\n",
    "import getpass\n",
    "from IPython.display import HTML\n",
    "\n",
    "from arcgis.geocoding import geocode\n",
    "from arcgis.features import Feature, FeatureSet, FeatureLayerCollection, use_proximity, FeatureLayer\n",
    "from arcgis.features import GeoAccessor, GeoSeriesAccessor\n",
    "from arcgis.network.analysis import generate_origin_destination_cost_matrix"
   ]
  },
  {
   "cell_type": "code",
   "execution_count": 2,
   "id": "f17e4064-910a-453d-ad0a-0945fb9ef686",
   "metadata": {
    "tags": []
   },
   "outputs": [],
   "source": [
    "username = \"Glodanale\"\n",
    "password = keyring.get_password(\"arcgis\", \"Glodanale\")\n",
    "gis = GIS(\"https://www.arcgis.com\", \"Glodanale\", password)"
   ]
  },
  {
   "cell_type": "code",
   "execution_count": 3,
   "id": "91a0709f-de1c-4f05-9e0c-38c41c9a35ee",
   "metadata": {
    "tags": []
   },
   "outputs": [],
   "source": [
    "def pullDataFromMySQL():\n",
    "    connection = mysql.connector.connect(\n",
    "            host = \"localhost\",\n",
    "            port = 3306,\n",
    "            user = 'root',\n",
    "            database = \"expandinghorizons\",\n",
    "            password = \"dB79@dG2024!\"\n",
    "    )\n",
    "    \n",
    "    cursor = connection.cursor()\n",
    "    \n",
    "    query = \"SELECT * FROM ei\"\n",
    "    cursor.execute(query)\n",
    "    \n",
    "    rows = cursor.fetchall()\n",
    "    \n",
    "    df = pd.DataFrame(rows, columns=['_id', 'FirstName', 'LastName', 'ServiceHours', 'Address1', 'City', 'State', 'Zipcode', 'County', 'Longitude', 'Latitude'])\n",
    "    df[\"Role\"] = \"ei\"\n",
    "    \n",
    "    cursor.close()\n",
    "    connection.close()\n",
    "    \n",
    "    return df"
   ]
  },
  {
   "cell_type": "code",
   "execution_count": null,
   "id": "4605d12e-1a64-4c1f-845f-0c519ecdb0b2",
   "metadata": {},
   "outputs": [],
   "source": [
    "def pullDataFromMySQL():\n",
    "    connection = mysql.connector.connect(\n",
    "            host = \"localhost\",\n",
    "            port = 3306,\n",
    "            user = 'root',\n",
    "            database = \"expandinghorizons\",\n",
    "            password = \"dB79@dG2024!\"\n",
    "    )\n",
    "    \n",
    "    cursor = connection.cursor()\n",
    "    \n",
    "    query = \"SELECT * FROM child\"\n",
    "    cursor.execute(query)\n",
    "    \n",
    "    rows = cursor.fetchall()\n",
    "    \n",
    "    df = pd.DataFrame(rows, columns=['_id', 'FirstName', 'LastName', 'ServiceHours', 'Address1', 'City', 'State', 'Zipcode', 'County', 'Longitude', 'Latitude'])\n",
    "    df[\"Role\"] = \"child\"\n",
    "    \n",
    "    cursor.close()\n",
    "    connection.close()\n",
    "    \n",
    "    return df"
   ]
  },
  {
   "cell_type": "code",
   "execution_count": 4,
   "id": "bf379871-7991-4ac4-83f7-20b5ad6e0c12",
   "metadata": {
    "tags": []
   },
   "outputs": [],
   "source": [
    "data = pullDataFromMySQL()"
   ]
  },
  {
   "cell_type": "code",
   "execution_count": 5,
   "id": "e83b264c-d8f9-44d9-818f-003e472fb9d3",
   "metadata": {
    "scrolled": true,
    "tags": []
   },
   "outputs": [
    {
     "name": "stdout",
     "output_type": "stream",
     "text": [
      "                         _id  FirstName    LastName  ServiceHours  \\\n",
      "0   65d75a2ce09e67e025e8cd30       Mary  Richardson           0.0   \n",
      "1   65d75bb0e09e67e025e8cd31    Kirstin      Tipton           1.0   \n",
      "2   65d75c59e09e67e025e8cd32      Kassi      Knight           0.0   \n",
      "3   65d75c87e09e67e025e8cd33     Rachel      Taylor           0.0   \n",
      "4   65d75cb9e09e67e025e8cd34    Brannan     Vanover           0.0   \n",
      "5   65d75ce1e09e67e025e8cd35     Briana     Ailshie           0.0   \n",
      "6   65d75d08e09e67e025e8cd36       Dawn     Martino           0.0   \n",
      "7   65d75d4ce09e67e025e8cd37      Casey      Crumly           0.0   \n",
      "8   65d75d80e09e67e025e8cd38        Kim      Risner           0.0   \n",
      "9   65d75da9e09e67e025e8cd39      Lydia        Ugwu           0.0   \n",
      "10  65d75dd5e09e67e025e8cd3a      Emily    Jennings           0.0   \n",
      "11  65d75dfae09e67e025e8cd3b      Faith       Ihrig           0.0   \n",
      "12  65d75e28e09e67e025e8cd3c  Stephanie       Cowan           0.0   \n",
      "\n",
      "                     Address1          City State Zipcode      County  \\\n",
      "0    904 West Hillcrest Drive  Johnson City    TN   37604  Washington   \n",
      "1       151 Valley View Drive      Abingdon    VA   24210  Washington   \n",
      "2   7040 Blue Springs Parkway       Mosheim    TN   37818      Greene   \n",
      "3            502 Nunley Drive  Johnson City    TN   37604  Washington   \n",
      "4    1573 Old Bristol Highway  Elizabethton    TN   37643      Carter   \n",
      "5        1370 Riverbend Drive     Kingsport    TN   37664    Sullivan   \n",
      "6          320 Hamilton Place     Kingsport    TN   37663    Sullivan   \n",
      "7           198 Forest Circle  Jonesborough    TN   37659  Washington   \n",
      "8              49 24th Street       Bristol    TN   37620    Sullivan   \n",
      "9     801 Magnolia Avenue Ext  Johnson City    TN   37604  Washington   \n",
      "10         612 Hollyhill Road  Johnson City    TN   37604  Washington   \n",
      "11           1218 Pine Street     Kingsport    TN   37664    Sullivan   \n",
      "12          1130 Raccoon Lane   Piney Flats    TN   37686    Sullivan   \n",
      "\n",
      "    Longitude   Latitude  \n",
      "0  -82.372108  36.319485  \n",
      "1  -81.977836  36.722124  \n",
      "2  -82.944595  36.197052  \n",
      "3  -82.415306  36.305367  \n",
      "4  -82.234230  36.391361  \n",
      "5  -82.522095  36.509079  \n",
      "6  -82.490273  36.483723  \n",
      "7  -82.460320  36.299648  \n",
      "8  -82.209000  36.592892  \n",
      "9  -82.354896  36.299501  \n",
      "10 -82.383507  36.334129  \n",
      "11 -82.546295  36.537521  \n",
      "12 -82.371777  36.411166  \n"
     ]
    }
   ],
   "source": [
    "print(data)"
   ]
  },
  {
   "cell_type": "code",
   "execution_count": 6,
   "id": "94efc3c3-4af6-4cf4-b4be-b302fcb949ad",
   "metadata": {
    "scrolled": true,
    "tags": []
   },
   "outputs": [
    {
     "name": "stdout",
     "output_type": "stream",
     "text": [
      "<class 'pandas.core.frame.DataFrame'>\n",
      "<class 'pandas.core.frame.DataFrame'>\n",
      "                        _id FirstName    LastName  \\\n",
      "0  65d75a2ce09e67e025e8cd30      Mary  Richardson   \n",
      "\n",
      "                                       Full_Address  Longitude   Latitude  \n",
      "0  904 West Hillcrest Drive, Johnson City, TN 37604 -82.372108  36.319485  \n",
      "1\n",
      "(1, 6)\n",
      "--------------------------------------------------------------------------------------------------------\n",
      "<class 'pandas.core.frame.DataFrame'>\n",
      "                        _id FirstName LastName  \\\n",
      "0  65d75c87e09e67e025e8cd33    Rachel   Taylor   \n",
      "1  65d75cb9e09e67e025e8cd34   Brannan  Vanover   \n",
      "2  65d75ce1e09e67e025e8cd35    Briana  Ailshie   \n",
      "\n",
      "                                       Full_Address  Longitude   Latitude  \n",
      "0          502 Nunley Drive, Johnson City, TN 37604 -82.415306  36.305367  \n",
      "1  1573 Old Bristol Highway, Elizabethton, TN 37643 -82.234230  36.391361  \n",
      "2         1370 Riverbend Drive, Kingsport, TN 37664 -82.522095  36.509079  \n"
     ]
    }
   ],
   "source": [
    "def combine_address(row):\n",
    "    return f\"{row['Address1']}, {row['City']}, {row['State']} {row['Zipcode']}\"\n",
    "\n",
    "data[\"Full_Address\"] = data.apply(combine_address, axis=1)\n",
    "featureSetDF = data.copy()\n",
    "#print(featureSetDF)\n",
    "\n",
    "featureSetDF = featureSetDF.drop(columns=[\"ServiceHours\", \"Address1\", \"City\", \"State\", \"Zipcode\", \"County\"])\n",
    "featureSetDF = featureSetDF[[\"_id\",\"FirstName\", \"LastName\", \"Full_Address\", \"Longitude\", \"Latitude\", \"Role\"]]\n",
    "\n",
    "#Note: delete the next line for actual run through\n",
    "featureSetDF2 = featureSetDF.copy()\n",
    "\n",
    "featureSetDF = featureSetDF.iloc[[0]]\n",
    "featureSetDF2 = featureSetDF2.iloc[3:6]\n",
    "featureSetDF2.reset_index(drop=True, inplace=True)\n",
    "\n",
    "print(type(featureSetDF))\n",
    "#featureSetDF = featureSetDF.to_frame()\n",
    "print(type(featureSetDF))\n",
    "print(featureSetDF)\n",
    "print(len(featureSetDF))\n",
    "print(featureSetDF.shape)\n",
    "print(\"--------------------------------------------------------------------------------------------------------\")\n",
    "print(type(featureSetDF2))\n",
    "print(featureSetDF2)"
   ]
  },
  {
   "cell_type": "code",
   "execution_count": 35,
   "id": "f20ec55d-07f7-4508-84a1-9e1e7e718841",
   "metadata": {
    "tags": []
   },
   "outputs": [],
   "source": [
    "def buildFeatureSet(df):\n",
    "    features = []\n",
    "\n",
    "    for index, row in df.iterrows():\n",
    "        attributes = {\"Address\": row['Full_Address'], \"Status\": \"unconnected\", \"OBJECTID\": row['_id'], \"Role\": row['Role']}\n",
    "        geometry = {\"x\": row[\"Longitude\"], 'y': row[\"Latitude\"]}\n",
    "        feature = {\"attributes\": attributes, \"geometry\": geometry}\n",
    "        features.append(feature)\n",
    "        \n",
    "    location_json = {\n",
    "        \"features\": features,\n",
    "        \"spatialReference\": {\"wkid\": 4326, \"lastestWkid\": 4326},\n",
    "        \"geometryType\": \"esriGeometryPoint\",\n",
    "        \"fields\": [\n",
    "            {\"name\": \"OBJECTID\", \"type\": \"esriFieldTypeString\", \"alias\": \"OBJECTID\", \"length\": \"50\"},\n",
    "            {\"name\": \"Address\", \"type\": \"esriFieldTypeString\", \"alias\": \"Address\", \"length\": \"100\"},\n",
    "            {\"name\": \"Status\", \"type\": \"esriFieldTypeString\", \"alias\": \"Status\", \"length\": \"50\"},\n",
    "            {\"name\": \"Role\", \"type\": \"esriFieldTypeString\", \"alias\": \"Role\", \"length\": \"50\"}\n",
    "        ]\n",
    "    }\n",
    "        \n",
    "    feature_set = FeatureSet.from_dict(location_json)\n",
    "    return feature_set"
   ]
  },
  {
   "cell_type": "code",
   "execution_count": 8,
   "id": "b7e9c461-ef12-42cd-a690-9bbfd2f758c5",
   "metadata": {
    "tags": []
   },
   "outputs": [],
   "source": [
    "def createFeatureLayer(feature_set):\n",
    "    feature_layer_item = gis.content.import_data(feature_set, title=\"Test Feature Layer\")\n",
    "    feature_layer_url = feature_layer_item.url\n",
    "    print(\"Feature Layer URL:\", feature_layer_url)\n",
    "    \n",
    "    return feature_layer_item"
   ]
  },
  {
   "cell_type": "code",
   "execution_count": 27,
   "id": "6838928b-d625-4a8f-a785-eb1b018c4c1b",
   "metadata": {
    "tags": []
   },
   "outputs": [],
   "source": [
    "def analyzeFeatureLayer(feature_layer_item):\n",
    "    feature_layer = feature_layer_item.layers[0]\n",
    "    features = feature_layer.query()\n",
    "\n",
    "    for feature in features:\n",
    "        print(feature)\n",
    "        print(\"\\n\")"
   ]
  },
  {
   "cell_type": "code",
   "execution_count": 28,
   "id": "bdeb10c9-695c-4a34-abd6-705d7dc6d7cb",
   "metadata": {
    "tags": []
   },
   "outputs": [],
   "source": [
    "def process(df):\n",
    "    feature_set = buildFeatureSet(df)\n",
    "    feature_layer_item = createFeatureLayer(feature_set)\n",
    "    analyzeFeatureLayer(feature_layer_item)\n",
    "    \n",
    "    return feature_layer_item"
   ]
  },
  {
   "cell_type": "code",
   "execution_count": 36,
   "id": "de09a1ed-fa42-4e68-9596-b466b9e081c6",
   "metadata": {
    "tags": []
   },
   "outputs": [
    {
     "name": "stdout",
     "output_type": "stream",
     "text": [
      "Feature Layer URL: https://services5.arcgis.com/ZYK688A64hFRZ5yX/arcgis/rest/services/a4eb5b/FeatureServer\n",
      "{\"geometry\": {\"x\": -9174429.90765625, \"y\": 4342721.095604265, \"spatialReference\": {\"wkid\": 102100, \"latestWkid\": 3857}}, \"attributes\": {\"FID\": 1, \"Address\": \"502 Nunley Drive, Johnson City, TN 37604\", \"Status\": \"unconnected\", \"OBJECTID\": \"65d75c87e09e67e025e8cd33\"}}\n",
      "\n",
      "\n",
      "{\"geometry\": {\"x\": -9154272.613997135, \"y\": 4354606.561637091, \"spatialReference\": {\"wkid\": 102100, \"latestWkid\": 3857}}, \"attributes\": {\"FID\": 2, \"Address\": \"1573 Old Bristol Highway, Elizabethton, TN 37643\", \"Status\": \"unconnected\", \"OBJECTID\": \"65d75cb9e09e67e025e8cd34\"}}\n",
      "\n",
      "\n",
      "{\"geometry\": {\"x\": -9186317.564155225, \"y\": 4370897.85718025, \"spatialReference\": {\"wkid\": 102100, \"latestWkid\": 3857}}, \"attributes\": {\"FID\": 3, \"Address\": \"1370 Riverbend Drive, Kingsport, TN 37664\", \"Status\": \"unconnected\", \"OBJECTID\": \"65d75ce1e09e67e025e8cd35\"}}\n",
      "\n",
      "\n"
     ]
    }
   ],
   "source": [
    "#start_layer = process(featureSetDF)\n",
    "stop_layer = process(featureSetDF2)"
   ]
  },
  {
   "cell_type": "code",
   "execution_count": 45,
   "id": "26484676-3385-4b1d-af1d-2f9a6baa2e64",
   "metadata": {
    "tags": []
   },
   "outputs": [
    {
     "name": "stdout",
     "output_type": "stream",
     "text": [
      "{\"geometry\": {\"x\": -9174429.90765625, \"y\": 4342721.095604265, \"spatialReference\": {\"wkid\": 102100, \"latestWkid\": 3857}}, \"attributes\": {\"FID\": 1, \"Address\": \"502 Nunley Drive, Johnson City, TN 37604\", \"Status\": \"unconnected\", \"OBJECTID\": \"65d75c87e09e67e025e8cd33\"}}\n",
      "\n",
      "\n",
      "{\"geometry\": {\"x\": -9154272.613997135, \"y\": 4354606.561637091, \"spatialReference\": {\"wkid\": 102100, \"latestWkid\": 3857}}, \"attributes\": {\"FID\": 2, \"Address\": \"1573 Old Bristol Highway, Elizabethton, TN 37643\", \"Status\": \"connected\", \"OBJECTID\": \"65d75cb9e09e67e025e8cd34\"}}\n",
      "\n",
      "\n",
      "{\"geometry\": {\"x\": -9186317.564155225, \"y\": 4370897.85718025, \"spatialReference\": {\"wkid\": 102100, \"latestWkid\": 3857}}, \"attributes\": {\"FID\": 3, \"Address\": \"1370 Riverbend Drive, Kingsport, TN 37664\", \"Status\": \"connected\", \"OBJECTID\": \"65d75ce1e09e67e025e8cd35\"}}\n",
      "\n",
      "\n"
     ]
    }
   ],
   "source": [
    "def updateDestinations(feature_layer_item, id_value):\n",
    "    feature_layer = feature_layer_item.layers[0]\n",
    "    feature_layer_query = feature_layer.query(where=f\"OBJECTID = '{id_value}'\")\n",
    "    for feature in feature_layer_query.features:\n",
    "        feature.attributes[\"Status\"] = \"connected\"\n",
    "    feature_layer.edit_features(updates=feature_layer_query.features)\n",
    "    \n",
    "updateDestinations(stop_layer, \"65d75ce1e09e67e025e8cd35\")\n",
    "analyzeFeatureLayer(stop_layer)"
   ]
  },
  {
   "cell_type": "code",
   "execution_count": 26,
   "id": "933d345d-31e9-4d4e-bbac-d8bd09ea8b6e",
   "metadata": {
    "scrolled": true,
    "tags": []
   },
   "outputs": [
    {
     "name": "stderr",
     "output_type": "stream",
     "text": [
      "{\"messageCode\": \"AO_100096\", \"message\": \"The OBJECTID in a6d942 does not have unique values.\", \"params\": {\"startLayerRouteIDField\": \"OBJECTID\", \"startLayer\": \"a6d942\"}}\n",
      "{\"messageCode\": \"AO_100080\", \"message\": \"ConnectOriginsToDestinations failed.\"}\n",
      "Failed to execute (ConnectOriginsToDestinations).\n",
      "Failed.\n"
     ]
    },
    {
     "ename": "Exception",
     "evalue": "Job failed.",
     "output_type": "error",
     "traceback": [
      "\u001b[1;31m---------------------------------------------------------------------------\u001b[0m",
      "\u001b[1;31mException\u001b[0m                                 Traceback (most recent call last)",
      "File \u001b[1;32m<timed exec>:11\u001b[0m\n",
      "File \u001b[1;32m~\\anaconda3\\lib\\site-packages\\arcgis\\features\\use_proximity.py:392\u001b[0m, in \u001b[0;36mconnect_origins_to_destinations\u001b[1;34m(origins_layer, destinations_layer, measurement_type, origins_layer_route_id_field, destinations_layer_route_id_field, time_of_day, time_zone_for_time_of_day, output_name, context, gis, estimate, point_barrier_layer, line_barrier_layer, polygon_barrier_layer, future, route_shape, include_route_layers)\u001b[0m\n\u001b[0;32m    389\u001b[0m     _logger\u001b[38;5;241m.\u001b[39mwarn(msg)\n\u001b[0;32m    390\u001b[0m     params[\u001b[38;5;124m\"\u001b[39m\u001b[38;5;124mmeasurement_type\u001b[39m\u001b[38;5;124m\"\u001b[39m] \u001b[38;5;241m=\u001b[39m measurement_type\n\u001b[1;32m--> 392\u001b[0m \u001b[38;5;28;01mreturn\u001b[39;00m gis\u001b[38;5;241m.\u001b[39m_tools\u001b[38;5;241m.\u001b[39mfeatureanalysis\u001b[38;5;241m.\u001b[39mconnect_origins_to_destinations(\u001b[38;5;241m*\u001b[39m\u001b[38;5;241m*\u001b[39mparams)\n",
      "File \u001b[1;32m~\\anaconda3\\lib\\site-packages\\arcgis\\_impl\\tools.py:1753\u001b[0m, in \u001b[0;36m_FeatureAnalysisTools.connect_origins_to_destinations\u001b[1;34m(self, origins_layer, destinations_layer, measurement_type, origins_layer_route_id_field, destinations_layer_route_id_field, time_of_day, time_zone_for_time_of_day, output_name, context, estimate, point_barrier_layer, line_barrier_layer, polygon_barrier_layer, include_route_layers, route_shape, future)\u001b[0m\n\u001b[0;32m   1751\u001b[0m \u001b[38;5;28;01mif\u001b[39;00m future:\n\u001b[0;32m   1752\u001b[0m     \u001b[38;5;28;01mreturn\u001b[39;00m gpjob\n\u001b[1;32m-> 1753\u001b[0m ret \u001b[38;5;241m=\u001b[39m \u001b[43mgpjob\u001b[49m\u001b[38;5;241;43m.\u001b[39;49m\u001b[43mresult\u001b[49m\u001b[43m(\u001b[49m\u001b[43m)\u001b[49m\n\u001b[0;32m   1754\u001b[0m \u001b[38;5;28;01mif\u001b[39;00m output_name \u001b[38;5;129;01mis\u001b[39;00m \u001b[38;5;129;01mnot\u001b[39;00m \u001b[38;5;28;01mNone\u001b[39;00m \u001b[38;5;129;01mand\u001b[39;00m \u001b[38;5;124m\"\u001b[39m\u001b[38;5;124mroutesLayer\u001b[39m\u001b[38;5;124m\"\u001b[39m \u001b[38;5;129;01min\u001b[39;00m ret:\n\u001b[0;32m   1755\u001b[0m     \u001b[38;5;28;01mreturn\u001b[39;00m ret[\u001b[38;5;124m\"\u001b[39m\u001b[38;5;124mroutesLayer\u001b[39m\u001b[38;5;124m\"\u001b[39m]\n",
      "File \u001b[1;32m~\\anaconda3\\lib\\site-packages\\arcgis\\geoprocessing\\_job.py:231\u001b[0m, in \u001b[0;36mGPJob.result\u001b[1;34m(self)\u001b[0m\n\u001b[0;32m    229\u001b[0m     \u001b[38;5;28;01mreturn\u001b[39;00m \u001b[38;5;28;01mNone\u001b[39;00m\n\u001b[0;32m    230\u001b[0m \u001b[38;5;28;01mif\u001b[39;00m \u001b[38;5;28mself\u001b[39m\u001b[38;5;241m.\u001b[39m_is_fa:\n\u001b[1;32m--> 231\u001b[0m     \u001b[38;5;28;01mreturn\u001b[39;00m \u001b[38;5;28mself\u001b[39m\u001b[38;5;241m.\u001b[39m_process_fa(\u001b[38;5;28;43mself\u001b[39;49m\u001b[38;5;241;43m.\u001b[39;49m\u001b[43m_future\u001b[49m\u001b[38;5;241;43m.\u001b[39;49m\u001b[43mresult\u001b[49m\u001b[43m(\u001b[49m\u001b[43m)\u001b[49m)\n\u001b[0;32m    232\u001b[0m \u001b[38;5;28;01melif\u001b[39;00m \u001b[38;5;28mself\u001b[39m\u001b[38;5;241m.\u001b[39m_is_ra:\n\u001b[0;32m    233\u001b[0m     \u001b[38;5;28;01mreturn\u001b[39;00m \u001b[38;5;28mself\u001b[39m\u001b[38;5;241m.\u001b[39m_process_ra(\u001b[38;5;28mself\u001b[39m\u001b[38;5;241m.\u001b[39m_future\u001b[38;5;241m.\u001b[39mresult())\n",
      "File \u001b[1;32m~\\anaconda3\\lib\\concurrent\\futures\\_base.py:446\u001b[0m, in \u001b[0;36mFuture.result\u001b[1;34m(self, timeout)\u001b[0m\n\u001b[0;32m    444\u001b[0m     \u001b[38;5;28;01mraise\u001b[39;00m CancelledError()\n\u001b[0;32m    445\u001b[0m \u001b[38;5;28;01melif\u001b[39;00m \u001b[38;5;28mself\u001b[39m\u001b[38;5;241m.\u001b[39m_state \u001b[38;5;241m==\u001b[39m FINISHED:\n\u001b[1;32m--> 446\u001b[0m     \u001b[38;5;28;01mreturn\u001b[39;00m \u001b[38;5;28;43mself\u001b[39;49m\u001b[38;5;241;43m.\u001b[39;49m\u001b[43m__get_result\u001b[49m\u001b[43m(\u001b[49m\u001b[43m)\u001b[49m\n\u001b[0;32m    447\u001b[0m \u001b[38;5;28;01melse\u001b[39;00m:\n\u001b[0;32m    448\u001b[0m     \u001b[38;5;28;01mraise\u001b[39;00m \u001b[38;5;167;01mTimeoutError\u001b[39;00m()\n",
      "File \u001b[1;32m~\\anaconda3\\lib\\concurrent\\futures\\_base.py:391\u001b[0m, in \u001b[0;36mFuture.__get_result\u001b[1;34m(self)\u001b[0m\n\u001b[0;32m    389\u001b[0m \u001b[38;5;28;01mif\u001b[39;00m \u001b[38;5;28mself\u001b[39m\u001b[38;5;241m.\u001b[39m_exception:\n\u001b[0;32m    390\u001b[0m     \u001b[38;5;28;01mtry\u001b[39;00m:\n\u001b[1;32m--> 391\u001b[0m         \u001b[38;5;28;01mraise\u001b[39;00m \u001b[38;5;28mself\u001b[39m\u001b[38;5;241m.\u001b[39m_exception\n\u001b[0;32m    392\u001b[0m     \u001b[38;5;28;01mfinally\u001b[39;00m:\n\u001b[0;32m    393\u001b[0m         \u001b[38;5;66;03m# Break a reference cycle with the exception in self._exception\u001b[39;00m\n\u001b[0;32m    394\u001b[0m         \u001b[38;5;28mself\u001b[39m \u001b[38;5;241m=\u001b[39m \u001b[38;5;28;01mNone\u001b[39;00m\n",
      "File \u001b[1;32m~\\anaconda3\\lib\\concurrent\\futures\\thread.py:58\u001b[0m, in \u001b[0;36m_WorkItem.run\u001b[1;34m(self)\u001b[0m\n\u001b[0;32m     55\u001b[0m     \u001b[38;5;28;01mreturn\u001b[39;00m\n\u001b[0;32m     57\u001b[0m \u001b[38;5;28;01mtry\u001b[39;00m:\n\u001b[1;32m---> 58\u001b[0m     result \u001b[38;5;241m=\u001b[39m \u001b[38;5;28mself\u001b[39m\u001b[38;5;241m.\u001b[39mfn(\u001b[38;5;241m*\u001b[39m\u001b[38;5;28mself\u001b[39m\u001b[38;5;241m.\u001b[39margs, \u001b[38;5;241m*\u001b[39m\u001b[38;5;241m*\u001b[39m\u001b[38;5;28mself\u001b[39m\u001b[38;5;241m.\u001b[39mkwargs)\n\u001b[0;32m     59\u001b[0m \u001b[38;5;28;01mexcept\u001b[39;00m \u001b[38;5;167;01mBaseException\u001b[39;00m \u001b[38;5;28;01mas\u001b[39;00m exc:\n\u001b[0;32m     60\u001b[0m     \u001b[38;5;28mself\u001b[39m\u001b[38;5;241m.\u001b[39mfuture\u001b[38;5;241m.\u001b[39mset_exception(exc)\n",
      "File \u001b[1;32m~\\anaconda3\\lib\\site-packages\\arcgis\\geoprocessing\\_support.py:322\u001b[0m, in \u001b[0;36m_future_op\u001b[1;34m(gptool, task_url, job_info, job_id, param_db, return_values, return_messages)\u001b[0m\n\u001b[0;32m    318\u001b[0m \u001b[38;5;28;01mdef\u001b[39;00m \u001b[38;5;21m_future_op\u001b[39m(\n\u001b[0;32m    319\u001b[0m     gptool, task_url, job_info, job_id, param_db, return_values, return_messages\n\u001b[0;32m    320\u001b[0m ):\n\u001b[1;32m--> 322\u001b[0m     job_info \u001b[38;5;241m=\u001b[39m \u001b[43m_analysis_job_status\u001b[49m\u001b[43m(\u001b[49m\u001b[43mgptool\u001b[49m\u001b[43m,\u001b[49m\u001b[43m \u001b[49m\u001b[43mtask_url\u001b[49m\u001b[43m,\u001b[49m\u001b[43m \u001b[49m\u001b[43mjob_info\u001b[49m\u001b[43m)\u001b[49m\n\u001b[0;32m    323\u001b[0m     resp \u001b[38;5;241m=\u001b[39m _analysis_job_results(gptool, task_url, job_info, job_id)\n\u001b[0;32m    325\u001b[0m     \u001b[38;5;66;03m# ---------------------async-out---------------------#\u001b[39;00m\n",
      "File \u001b[1;32m~\\anaconda3\\lib\\site-packages\\arcgis\\geoprocessing\\_support.py:247\u001b[0m, in \u001b[0;36m_analysis_job_status\u001b[1;34m(gptool, task_url, job_info)\u001b[0m\n\u001b[0;32m    244\u001b[0m     num_messages \u001b[38;5;241m=\u001b[39m num\n\u001b[0;32m    246\u001b[0m \u001b[38;5;28;01mif\u001b[39;00m job_response\u001b[38;5;241m.\u001b[39mget(\u001b[38;5;124m\"\u001b[39m\u001b[38;5;124mjobStatus\u001b[39m\u001b[38;5;124m\"\u001b[39m) \u001b[38;5;241m==\u001b[39m \u001b[38;5;124m\"\u001b[39m\u001b[38;5;124mesriJobFailed\u001b[39m\u001b[38;5;124m\"\u001b[39m:\n\u001b[1;32m--> 247\u001b[0m     \u001b[38;5;28;01mraise\u001b[39;00m \u001b[38;5;167;01mException\u001b[39;00m(\u001b[38;5;124m\"\u001b[39m\u001b[38;5;124mJob failed.\u001b[39m\u001b[38;5;124m\"\u001b[39m)\n\u001b[0;32m    248\u001b[0m \u001b[38;5;28;01melif\u001b[39;00m job_response\u001b[38;5;241m.\u001b[39mget(\u001b[38;5;124m\"\u001b[39m\u001b[38;5;124mjobStatus\u001b[39m\u001b[38;5;124m\"\u001b[39m) \u001b[38;5;241m==\u001b[39m \u001b[38;5;124m\"\u001b[39m\u001b[38;5;124mesriJobCancelled\u001b[39m\u001b[38;5;124m\"\u001b[39m:\n\u001b[0;32m    249\u001b[0m     \u001b[38;5;28;01mraise\u001b[39;00m \u001b[38;5;167;01mException\u001b[39;00m(\u001b[38;5;124m\"\u001b[39m\u001b[38;5;124mJob cancelled.\u001b[39m\u001b[38;5;124m\"\u001b[39m)\n",
      "\u001b[1;31mException\u001b[0m: Job failed."
     ]
    }
   ],
   "source": [
    "def buildMatrix(origin, destination)\n",
    "\n",
    "    items = gis.content.search(query=\"OD Cost Matrix\", item_type=\"Feature Service\")\n",
    "    for item in items:\n",
    "        item.delete()\n",
    "\n",
    "    result = use_proximity.connect_origins_to_destinations(origins_layer=origin,\n",
    "                                                            destinations_layer=destination,\n",
    "                                                            origins_layer_route_id_field= \"Status\",\n",
    "                                                            destinations_layer_route_id_field=\"Status\",\n",
    "                                                            output_name=\"OD Cost Matrix\",\n",
    "                                                            gis=gis)\n",
    "\n",
    "    print(\"I completed the function\")\n",
    "\n",
    "    od_cost_matrix_sublayer = FeatureLayer.fromitem(result, layer_id=0)\n",
    "\n",
    "    od_df = od_cost_matrix_sublayer.query(where='1=1', as_df=True)\n",
    "\n",
    "    # filter only the required columns\n",
    "    od_df2 = od_df[['From_OBJECTID','To_OBJECTID','Total_Miles','Total_Minutes', 'From_Role', 'To_Role']]\n",
    "    print(od_df2)\n",
    "\n",
    "    return od_df2"
   ]
  },
  {
   "cell_type": "code",
   "execution_count": null,
   "id": "1eb73e68-84e0-43e1-93e4-19406e03b966",
   "metadata": {},
   "outputs": [],
   "source": [
    "def pushLocationDataToMySQL(locationDF):\n",
    "    if locationDF.empty:\n",
    "        print(\"Error: locationDF is empty\")\n",
    "    else:\n",
    "        connection = mysql.connector.connect(\n",
    "            host = \"localhost\",\n",
    "            port = 3306,\n",
    "            user = 'root',\n",
    "            database = \"expandinghorizons\",\n",
    "            password = \"dB79@dG2024!\"\n",
    "        )\n",
    "    \n",
    "        cursor = connection.cursor()\n",
    "    \n",
    "        print(f\"\\n\\nDatabase connected\\n\\n\")\n",
    "    \n",
    "        for index, row in locationDF.iterrows():\n",
    "            if row.isnull().any():\n",
    "                print(f\"{row['From_OBJECTID']} to {row['To_OBJECTID']} contains null values\")\n",
    "            else:\n",
    "                pairID1 = row[\"From_OBJECTID\"] + row[\"To_OBJECTID\"]\n",
    "                pairID2 = row[\"To_OBJECTID\"] + row[\"From_OBJECTID\"]\n",
    "                \n",
    "                query = f\"SELECT * FROM locationdata WHERE pair_id = {pairID1}\"\n",
    "                cursor.execute(query)\n",
    "                rows1 = cursor.fetchall()\n",
    "                \n",
    "                query = f\"SELECT * FROM locationdata WHERE pair_id = {pairID2}\"\n",
    "                cursor.execute(query)\n",
    "                rows2 = cursor.fetchall()\n",
    "                \n",
    "                if rows1 or rows2:\n",
    "                    print(\"This pair exists in the database\")\n",
    "                    if rows1:\n",
    "                        pairID = pairID1\n",
    "                    elif rows2:\n",
    "                        pairID = pairID2\n",
    "                    else:\n",
    "                        print(\"Error!!!\")\n",
    "                    \n",
    "                    updateQuery = (\"UPDATE locationdata\" \n",
    "                                   f\"SET driving_distance = {row[Total_Miles]}, driving_time = {row[Total_Minutes]}\" \n",
    "                                   f\"WHERE pair_id = {pairID}\")\n",
    "                    cursor.execute(updateQuery)\n",
    "                    print(f\"{pairID} is updated in the MySQL database\")\n",
    "                    \n",
    "                else:\n",
    "                    print(\"This pair does not exist in database\")\n",
    "                    pairID = pairID1\n",
    "                    insertQuery = (\"INSERT INTO locationdata(pair_id, child_id_1, child_id_2, ei_id_1, ei_id_2, assigned, driving_distance, driving_time) \"\n",
    "                                   \"VALUES (%s, %s, %s, %s, %s, %s, %s, %s) \")\n",
    "                \n",
    "                    if row['From_Role'] == \"child\":\n",
    "                        if row[\"To_Role\"] == \"child\":\n",
    "                            cursor.execute(insertQuery, (\n",
    "                                pairID, row['From_OBJECTID'], row[\"To_OBJECTID\"], None, None, 0, row[\"Total_Miles\"], row[\"Total_Minutes\"]))\n",
    "                            \n",
    "                        elif row[\"To_Role\"] == \"ei\":\n",
    "                            cursor.execute(insertQuery, (\n",
    "                                pairID, row['From_OBJECTID'], None, row[\"To_OBJECTID\"], None, 0, row[\"Total_Miles\"], row[\"Total_Minutes\"]))\n",
    "                            \n",
    "                    elif row[\"From_Role\"] == \"ei\":\n",
    "                        if row[\"To_Role\"] == \"child\":\n",
    "                            cursor.execute(insertQuery, (\n",
    "                                pairID, row['To_OBJECTID'], None, row[\"From_OBJECTID\"], None, 0, row[\"Total_Miles\"], row[\"Total_Minutes\"]))\n",
    "                        elif row[\"To_Role\"] == \"ei\":\n",
    "                            cursor.execute(insertQuery, (\n",
    "                                pairID, None, None, row['From_OBJECTID'], row[\"To_OBJECTID\"], 0, row[\"Total_Miles\"], row[\"Total_Minutes\"]))\n",
    "\n",
    "                    print(f\"{pairID} is inserted in the MySQL database\")\n",
    "            \n",
    "        connection.commit()\n",
    "        cursor.close()\n",
    "        connection.close()"
   ]
  },
  {
   "cell_type": "code",
   "execution_count": 46,
   "id": "1ec534c4-0c2a-4539-8169-3c8f8bb8aa64",
   "metadata": {},
   "outputs": [
    {
     "name": "stdout",
     "output_type": "stream",
     "text": [
      "   OBJECTID RouteName StartTime EndTime StartTimeUTC EndTimeUTC  Total_Miles  \\\n",
      "0         1     1 - 1       NaT     NaT          NaT        NaT     3.290089   \n",
      "1         2     1 - 2       NaT     NaT          NaT        NaT    13.811811   \n",
      "2         3     1 - 3       NaT     NaT          NaT        NaT    19.906688   \n",
      "\n",
      "   Total_Kilometers  Total_Minutes  TotalWait_Minutes  ...  RouteLayerItemURL  \\\n",
      "0          5.294896       7.917875               <NA>  ...               <NA>   \n",
      "1            22.228      23.989688               <NA>  ...               <NA>   \n",
      "2         32.036772      25.676583               <NA>  ...               <NA>   \n",
      "\n",
      "  OriginOID DestinationOID                                      From_Address  \\\n",
      "0         1              1  904 West Hillcrest Drive, Johnson City, TN 37604   \n",
      "1         1              2  904 West Hillcrest Drive, Johnson City, TN 37604   \n",
      "2         1              3  904 West Hillcrest Drive, Johnson City, TN 37604   \n",
      "\n",
      "   From_Type             From_OBJECTID  \\\n",
      "0   location  65d75a2ce09e67e025e8cd30   \n",
      "1   location  65d75a2ce09e67e025e8cd30   \n",
      "2   location  65d75a2ce09e67e025e8cd30   \n",
      "\n",
      "                                         To_Address   To_Type  \\\n",
      "0          502 Nunley Drive, Johnson City, TN 37604  location   \n",
      "1  1573 Old Bristol Highway, Elizabethton, TN 37643  location   \n",
      "2         1370 Riverbend Drive, Kingsport, TN 37664  location   \n",
      "\n",
      "                To_OBJECTID                                              SHAPE  \n",
      "0  65d75c87e09e67e025e8cd33  {\"paths\": [[[-9169636.1555, 4344650.8966], [-9...  \n",
      "1  65d75cb9e09e67e025e8cd34  {\"paths\": [[[-9169636.1555, 4344650.8966], [-9...  \n",
      "2  65d75ce1e09e67e025e8cd35  {\"paths\": [[[-9169636.1555, 4344650.8966], [-9...  \n",
      "\n",
      "[3 rows x 22 columns]\n"
     ]
    }
   ],
   "source": [
    "print(od_df)"
   ]
  },
  {
   "cell_type": "code",
   "execution_count": 47,
   "id": "9644f3fa-9cf3-48e3-9cc7-a2c2b1468d54",
   "metadata": {
    "tags": []
   },
   "outputs": [],
   "source": [
    "od_df.to_csv(\"test.csv\")"
   ]
  },
  {
   "cell_type": "code",
   "execution_count": 21,
   "id": "dc805647-b128-4346-83a1-a748ad8a56bf",
   "metadata": {
    "tags": []
   },
   "outputs": [
    {
     "name": "stdout",
     "output_type": "stream",
     "text": [
      "              From_OBJECTID               To_OBJECTID  Total_Miles  \\\n",
      "0  65d75a2ce09e67e025e8cd30  65d75c87e09e67e025e8cd33     3.290089   \n",
      "1  65d75a2ce09e67e025e8cd30  65d75cb9e09e67e025e8cd34    13.811811   \n",
      "2  65d75a2ce09e67e025e8cd30  65d75ce1e09e67e025e8cd35    19.906688   \n",
      "\n",
      "   Total_Minutes  \n",
      "0       7.917875  \n",
      "1      23.989688  \n",
      "2      25.676583  \n"
     ]
    }
   ],
   "source": [
    "od_df2 = od_df[['From_OBJECTID','To_OBJECTID','Total_Miles','Total_Minutes']]\n",
    "print(od_df2)"
   ]
  },
  {
   "cell_type": "code",
   "execution_count": null,
   "id": "4aba5060-551c-4a6a-9721-b15030270bc8",
   "metadata": {},
   "outputs": [],
   "source": []
  }
 ],
 "metadata": {
  "kernelspec": {
   "display_name": "Python 3 (ipykernel)",
   "language": "python",
   "name": "python3"
  },
  "language_info": {
   "codemirror_mode": {
    "name": "ipython",
    "version": 3
   },
   "file_extension": ".py",
   "mimetype": "text/x-python",
   "name": "python",
   "nbconvert_exporter": "python",
   "pygments_lexer": "ipython3",
   "version": "3.9.18"
  }
 },
 "nbformat": 4,
 "nbformat_minor": 5
}
