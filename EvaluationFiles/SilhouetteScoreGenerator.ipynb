{
 "cells": [
  {
   "cell_type": "markdown",
   "id": "e50f3726-280e-4d2d-8c14-54418dac9733",
   "metadata": {},
   "source": [
    "# Silhouette Score for Allocation Algorithms\n",
    "\n",
    "> **1.** Create dataframe from MySQL table containing allocated system\n",
    "\n",
    "> **2.** Calculate Silhouette Score for allocation clusters"
   ]
  },
  {
   "cell_type": "code",
   "execution_count": 1,
   "id": "dc552aad-d856-4842-8ca1-76bfd55d83e2",
   "metadata": {},
   "outputs": [],
   "source": [
    "import pandas as pd\n",
    "import numpy as np\n",
    "import mysql.connector\n",
    "from sklearn.preprocessing import MinMaxScaler\n",
    "from sklearn.metrics import silhouette_score"
   ]
  },
  {
   "cell_type": "code",
   "execution_count": 2,
   "id": "59031b64-b67f-49fc-96ee-3ecf40cd9369",
   "metadata": {
    "scrolled": true,
    "tags": []
   },
   "outputs": [],
   "source": [
    "def buildDataFrame(table):\n",
    "    connection = mysql.connector.connect(\n",
    "                host = \"localhost\",\n",
    "                port = 3306,\n",
    "                user = 'root',\n",
    "                database = \"expandinghorizons\",\n",
    "                password = \"dB79@dG2024!\"\n",
    "    )\n",
    "\n",
    "    cursor = connection.cursor()\n",
    "\n",
    "    query = (\"SELECT distinct child_id FROM child \")\n",
    "    cursor.execute(query)\n",
    "\n",
    "    child_ids = cursor.fetchall()\n",
    "\n",
    "    data_list = []\n",
    "    for row in child_ids:\n",
    "        data = {}\n",
    "        data[\"id\"] = row[0]\n",
    "        child1_child_query = (\"SELECT child_id_1, child_id_2, driving_distance, driving_time \"\n",
    "                              f\"FROM {table} \"\n",
    "                              f\"WHERE child_id_1 = '{row[0]}' AND ei_id_1 IS NULL AND ei_id_2 IS NULL\")\n",
    "        cursor.execute(child1_child_query)\n",
    "        child1_child = cursor.fetchall()\n",
    "\n",
    "        for row2 in child1_child:\n",
    "            # Add columns with prefixes\n",
    "            data[f'{row2[1]}_distance'] = row2[2]\n",
    "            data[f'{row2[1]}_time'] = row2[3]\n",
    "\n",
    "        child_child2_query = (\"SELECT child_id_1, child_id_2, driving_distance, driving_time \"\n",
    "                              f\"FROM {table} \"\n",
    "                              f\"WHERE child_id_2 = '{row[0]}' AND ei_id_1 IS NULL AND ei_id_2 IS NULL\")\n",
    "        cursor.execute(child_child2_query)\n",
    "        child_child2 = cursor.fetchall()\n",
    "\n",
    "        for row3 in child_child2:\n",
    "            data[f'{row3[0]}_distance'] = row3[2]\n",
    "            data[f'{row3[0]}_time'] = row3[3]\n",
    "\n",
    "        child_ei_query = (\"SELECT child_id_1, ei_id_1, driving_distance, driving_time \"\n",
    "                          f\"FROM {table} \"\n",
    "                          f\"WHERE child_id_1 = '{row[0]}' AND child_id_2 IS NULL AND ei_id_2 IS NULL\")\n",
    "        cursor.execute(child_ei_query)\n",
    "        child_ei = cursor.fetchall()\n",
    "\n",
    "        for row4 in child_ei:\n",
    "            data[f'{row4[1]}_distance'] = row4[2]\n",
    "            data[f'{row4[1]}_time'] = row4[3]\n",
    "\n",
    "        assigned_query = (\"SELECT ei_id_1 \"\n",
    "                          f\"FROM {table} \"\n",
    "                          f\"WHERE child_id_1 = '{row[0]}' and assigned = 1\")\n",
    "        cursor.execute(assigned_query)\n",
    "        assigned = cursor.fetchall()\n",
    "\n",
    "        data[\"assigned_ei\"] = assigned[0][0]\n",
    "\n",
    "        data_list.append(data)\n",
    "\n",
    "    query = (\"SELECT ei_id FROM ei\")\n",
    "    cursor.execute(query)\n",
    "\n",
    "    ei_ids = cursor.fetchall()\n",
    "    for row5 in ei_ids:\n",
    "        data[\"id\"] = row5[0]\n",
    "        ei_child_query = (\"SELECT ei_id_1, child_id_1, driving_distance, driving_time \"\n",
    "                          f\"from {table} \"\n",
    "                          f\"WHERE ei_id_1 = '{row5[0]}' and child_id_2 is NULL and ei_id_2 is NULL\")\n",
    "        cursor.execute(ei_child_query)\n",
    "        ei_child = cursor.fetchall()\n",
    "        for row6 in ei_child:\n",
    "            data[f'{row6[1]}_distance'] = row6[2]\n",
    "            data[f'{row6[1]}_time'] = row6[3]\n",
    "\n",
    "        ei1_ei_query = (\"SELECT ei_id_1, ei_id_2, driving_distance, driving_time \"\n",
    "                        f\"from {table} \"\n",
    "                        f\"WHERE ei_id_1 = '{row5[0]}' and child_id_1 is NULL and child_id_2 is NULL\")\n",
    "        cursor.execute(ei1_ei_query)\n",
    "        ei1_ei = cursor.fetchall()\n",
    "        for row7 in ei1_ei:\n",
    "            data[f'{row7[1]}_distance'] = row7[2]\n",
    "            data[f'{row7[1]}_time'] = row7[3]\n",
    "\n",
    "        ei_ei2_query = (\"SELECT ei_id_1, ei_id_2, driving_distance, driving_time \"\n",
    "                        f\"from {table} \"\n",
    "                        f\"WHERE ei_id_2 = '{row5[0]}' and child_id_1 is NULL and child_id_2 is NULL\")\n",
    "        cursor.execute(ei_ei2_query)\n",
    "        ei_ei2 = cursor.fetchall()\n",
    "        for row8 in ei1_ei:\n",
    "            data[f'{row8[0]}_distance'] = row8[2]\n",
    "            data[f'{row8[0]}_time'] = row8[3]\n",
    "\n",
    "        data[\"assigned_ei\"] = row5[0]\n",
    "\n",
    "        data_list.append(data)\n",
    "\n",
    "    cursor.close()\n",
    "    connection.close()\n",
    "\n",
    "    df = pd.DataFrame(data_list)\n",
    "\n",
    "    return df"
   ]
  },
  {
   "cell_type": "code",
   "execution_count": 3,
   "id": "3d5f9486-c425-40b8-ad15-3745cd03a3c1",
   "metadata": {},
   "outputs": [],
   "source": [
    "def processData(df):\n",
    "    df = df.fillna(0)\n",
    "    popped_column = df.pop(\"assigned_ei\")\n",
    "    df[\"assigned_ei\"] = popped_column\n",
    "    df = df.drop(columns=[\"id\"])\n",
    "    \n",
    "    Y = df[\"assigned_ei\"].values\n",
    "    X = df.drop([\"assigned_ei\"], axis=1)\n",
    "    \n",
    "    scaler = MinMaxScaler()\n",
    "    X_scaled = scaler.fit_transform(X)\n",
    "    \n",
    "    silhouette_avg = silhouette_score(X_scaled, Y)\n",
    "    \n",
    "    return silhouette_avg"
   ]
  },
  {
   "cell_type": "code",
   "execution_count": 4,
   "id": "7bddca76-274d-4fa0-98c5-727403c5b3be",
   "metadata": {
    "scrolled": true,
    "tags": []
   },
   "outputs": [],
   "source": [
    "def runSilhouette(table):\n",
    "    data = buildDataFrame(table)\n",
    "    silhouette_score = processData(data)\n",
    "\n",
    "    print(f'Silhouette Score: {silhouette_score}')"
   ]
  },
  {
   "cell_type": "code",
   "execution_count": 5,
   "id": "422a0648-70e4-48e4-af4d-45fe04743ac7",
   "metadata": {},
   "outputs": [
    {
     "name": "stdout",
     "output_type": "stream",
     "text": [
      "Silhouette Score: -0.16580413570227015\n"
     ]
    }
   ],
   "source": [
    "runSilhouette(\"locationdatarandom\")"
   ]
  },
  {
   "cell_type": "code",
   "execution_count": 6,
   "id": "80513b4e-316a-40b7-849f-a28f6e7b0490",
   "metadata": {},
   "outputs": [
    {
     "ename": "IndexError",
     "evalue": "list index out of range",
     "output_type": "error",
     "traceback": [
      "\u001b[1;31m---------------------------------------------------------------------------\u001b[0m",
      "\u001b[1;31mIndexError\u001b[0m                                Traceback (most recent call last)",
      "Cell \u001b[1;32mIn[6], line 1\u001b[0m\n\u001b[1;32m----> 1\u001b[0m \u001b[43mrunSilhouette\u001b[49m\u001b[43m(\u001b[49m\u001b[38;5;124;43m\"\u001b[39;49m\u001b[38;5;124;43mlocationdatareal\u001b[39;49m\u001b[38;5;124;43m\"\u001b[39;49m\u001b[43m)\u001b[49m\n",
      "Cell \u001b[1;32mIn[4], line 2\u001b[0m, in \u001b[0;36mrunSilhouette\u001b[1;34m(table)\u001b[0m\n\u001b[0;32m      1\u001b[0m \u001b[38;5;28;01mdef\u001b[39;00m \u001b[38;5;21mrunSilhouette\u001b[39m(table):\n\u001b[1;32m----> 2\u001b[0m     data \u001b[38;5;241m=\u001b[39m \u001b[43mbuildDataFrame\u001b[49m\u001b[43m(\u001b[49m\u001b[43mtable\u001b[49m\u001b[43m)\u001b[49m\n\u001b[0;32m      3\u001b[0m     silhouette_score \u001b[38;5;241m=\u001b[39m processData(data)\n\u001b[0;32m      5\u001b[0m     \u001b[38;5;28mprint\u001b[39m(\u001b[38;5;124mf\u001b[39m\u001b[38;5;124m'\u001b[39m\u001b[38;5;124mSilhouette Score: \u001b[39m\u001b[38;5;132;01m{\u001b[39;00msilhouette_score\u001b[38;5;132;01m}\u001b[39;00m\u001b[38;5;124m'\u001b[39m)\n",
      "Cell \u001b[1;32mIn[2], line 58\u001b[0m, in \u001b[0;36mbuildDataFrame\u001b[1;34m(table)\u001b[0m\n\u001b[0;32m     55\u001b[0m     cursor\u001b[38;5;241m.\u001b[39mexecute(assigned_query)\n\u001b[0;32m     56\u001b[0m     assigned \u001b[38;5;241m=\u001b[39m cursor\u001b[38;5;241m.\u001b[39mfetchall()\n\u001b[1;32m---> 58\u001b[0m     data[\u001b[38;5;124m\"\u001b[39m\u001b[38;5;124massigned_ei\u001b[39m\u001b[38;5;124m\"\u001b[39m] \u001b[38;5;241m=\u001b[39m \u001b[43massigned\u001b[49m\u001b[43m[\u001b[49m\u001b[38;5;241;43m0\u001b[39;49m\u001b[43m]\u001b[49m[\u001b[38;5;241m0\u001b[39m]\n\u001b[0;32m     60\u001b[0m     data_list\u001b[38;5;241m.\u001b[39mappend(data)\n\u001b[0;32m     62\u001b[0m query \u001b[38;5;241m=\u001b[39m (\u001b[38;5;124m\"\u001b[39m\u001b[38;5;124mSELECT ei_id FROM ei\u001b[39m\u001b[38;5;124m\"\u001b[39m)\n",
      "\u001b[1;31mIndexError\u001b[0m: list index out of range"
     ]
    }
   ],
   "source": [
    "runSilhouette(\"locationdatareal\")"
   ]
  },
  {
   "cell_type": "code",
   "execution_count": 7,
   "id": "ed2051f4-95ea-4266-814c-981b0c777003",
   "metadata": {},
   "outputs": [
    {
     "name": "stdout",
     "output_type": "stream",
     "text": [
      "Silhouette Score: -0.044230672213201455\n"
     ]
    }
   ],
   "source": [
    "runSilhouette(\"locationdataalgo1\")"
   ]
  },
  {
   "cell_type": "code",
   "execution_count": 12,
   "id": "f48079d9-f197-4d92-8243-a9b493ebc1c0",
   "metadata": {},
   "outputs": [
    {
     "name": "stdout",
     "output_type": "stream",
     "text": [
      "Silhouette Score: 0.09451106914980036\n"
     ]
    }
   ],
   "source": [
    "runSilhouette(\"locationdataalgo2\")"
   ]
  },
  {
   "cell_type": "code",
   "execution_count": 9,
   "id": "1096f0a8-660c-46ef-b9f0-29f5b7378db9",
   "metadata": {
    "scrolled": true,
    "tags": []
   },
   "outputs": [
    {
     "name": "stdout",
     "output_type": "stream",
     "text": [
      "Silhouette Score: 0.12161702772837982\n"
     ]
    }
   ],
   "source": [
    "runSilhouette(\"locationdataalgo3\")"
   ]
  },
  {
   "cell_type": "code",
   "execution_count": 10,
   "id": "ec39189e-0a56-4c80-a00c-19cfc11883a2",
   "metadata": {},
   "outputs": [
    {
     "name": "stdout",
     "output_type": "stream",
     "text": [
      "Silhouette Score: 0.16918789262218806\n"
     ]
    }
   ],
   "source": [
    "runSilhouette(\"locationdataalgo4\")"
   ]
  },
  {
   "cell_type": "code",
   "execution_count": 11,
   "id": "e484998a-e8b7-457c-b8af-018324ec7dd9",
   "metadata": {
    "tags": []
   },
   "outputs": [
    {
     "name": "stdout",
     "output_type": "stream",
     "text": [
      "Silhouette Score: 0.13319871104189018\n"
     ]
    }
   ],
   "source": [
    "runSilhouette(\"locationdataalgo5\")"
   ]
  },
  {
   "cell_type": "code",
   "execution_count": null,
   "id": "9b04d85c-b197-4f52-83de-4601ac844a37",
   "metadata": {},
   "outputs": [],
   "source": []
  }
 ],
 "metadata": {
  "kernelspec": {
   "display_name": "Python 3 (ipykernel)",
   "language": "python",
   "name": "python3"
  },
  "language_info": {
   "codemirror_mode": {
    "name": "ipython",
    "version": 3
   },
   "file_extension": ".py",
   "mimetype": "text/x-python",
   "name": "python",
   "nbconvert_exporter": "python",
   "pygments_lexer": "ipython3",
   "version": "3.9.18"
  }
 },
 "nbformat": 4,
 "nbformat_minor": 5
}
