{
 "cells": [
  {
   "cell_type": "code",
   "execution_count": 1,
   "metadata": {},
   "outputs": [],
   "source": [
    "import pandas as pd\n",
    "import numpy as np\n",
    "import ChildDFs\n",
    "import clusterSets\n",
    "import ExecuteAllocation\n",
    "import randomAllo\n",
    "import TrueDistanceAllocation\n",
    "import ClusterMetrics\n",
    "import RouteGeneration"
   ]
  },
  {
   "cell_type": "code",
   "execution_count": 2,
   "metadata": {},
   "outputs": [],
   "source": [
    "def evaluateAllocation(table):\n",
    "    silhouetteE, db_index, ch_index, wcssE = ClusterMetrics.runClusterMetrics(table)\n",
    "    accuracy, mutual_info, confusion_matrix = ClusterMetrics.relationMetrics(\"locationdatareal\", table)\n",
    "    min_distance, min_time, average_distance, average_time, max_distance, max_time, var_distance, var_time = RouteGeneration.calculateDistances(table)\n",
    "\n",
    "    new_row = {\n",
    "            \"Algorithm\" : table,\n",
    "            \"Silhouette_Score_Euclidean\" : silhouetteE,\n",
    "            \"Davies-Bouldin\" : db_index,\n",
    "            \"Calinski-Herabasz\" : ch_index,\n",
    "            \"WCSS_Euclidean\" : wcssE,\n",
    "            \"Mutual_Info\" : mutual_info,\n",
    "            \"Accuracy\" : accuracy,\n",
    "            \"Route_Dist_Min\" : min_distance,\n",
    "            \"Route_Time_Min\" : min_time,\n",
    "            \"Route_Dist_Avg\" : average_distance,\n",
    "            \"Route_Time_Avg\" : average_time,\n",
    "            \"Route_Dist_Max\" : max_distance,\n",
    "            \"Route_Time_Max\" : max_time,\n",
    "            \"Route_Dist_Var\" : var_distance,\n",
    "            \"Route_Time_Var\" : var_time\n",
    "    }\n",
    "\n",
    "    print(new_row)\n",
    "    print(\"\\n\\n\\n\\n\\n\")\n",
    "    \n",
    "    return new_row"
   ]
  },
  {
   "cell_type": "code",
   "execution_count": 3,
   "metadata": {},
   "outputs": [],
   "source": [
    "def distanceNoCapAlgo(table):\n",
    "    TrueDistanceAllocation.distanceNoCap(table)\n",
    "    df = evaluateAllocation(table)\n",
    "\n",
    "    return df"
   ]
  },
  {
   "cell_type": "code",
   "execution_count": 4,
   "metadata": {},
   "outputs": [],
   "source": [
    "def eiLocNoCap(childList, table):\n",
    "    clusters = clusterSets.eiLocationClusters()\n",
    "    childDF = ExecuteAllocation.allocationNoCap(childList, clusters, table)\n",
    "    df = evaluateAllocation(table)\n",
    "\n",
    "    return df"
   ]
  },
  {
   "cell_type": "code",
   "execution_count": 5,
   "metadata": {},
   "outputs": [],
   "source": [
    "def realCCUniformNoCap(childList, table):\n",
    "    clusters = clusterSets.clusterRealUniform()\n",
    "    childDF = ExecuteAllocation.allocationNoCap(childList, clusters, table)\n",
    "    df = evaluateAllocation(table)\n",
    "\n",
    "    return df"
   ]
  },
  {
   "cell_type": "code",
   "execution_count": 6,
   "metadata": {},
   "outputs": [],
   "source": [
    "def realCCWeightedNoCap(childList, table):\n",
    "    clusters = clusterSets.clusterRealWeighted()\n",
    "    childDF = ExecuteAllocation.allocationNoCap(childList, clusters, table)\n",
    "    df = evaluateAllocation(table)\n",
    "\n",
    "    return df"
   ]
  },
  {
   "cell_type": "code",
   "execution_count": 7,
   "metadata": {},
   "outputs": [],
   "source": [
    "def randomUniCap(table):\n",
    "    randomAllo.randomUniformCap(table)\n",
    "    df = evaluateAllocation(table)\n",
    "\n",
    "    return df"
   ]
  },
  {
   "cell_type": "code",
   "execution_count": 8,
   "metadata": {},
   "outputs": [],
   "source": [
    "def distUniCap(childList, table):\n",
    "    TrueDistanceAllocation.distanceUniformCap(childList, table)\n",
    "    df = evaluateAllocation(table)\n",
    "\n",
    "    return df"
   ]
  },
  {
   "cell_type": "code",
   "execution_count": 9,
   "metadata": {},
   "outputs": [],
   "source": [
    "def eilocUniCap(childList, table):\n",
    "    clusters = clusterSets.eiLocationClusters()\n",
    "    childDF = ExecuteAllocation.allocationUniform(childList, clusters, table)\n",
    "    df = evaluateAllocation(table)\n",
    "\n",
    "    return df"
   ]
  },
  {
   "cell_type": "code",
   "execution_count": 10,
   "metadata": {},
   "outputs": [],
   "source": [
    "def realCCUniUniCap(childList, table):\n",
    "    clusters = clusterSets.clusterRealUniform()\n",
    "    childDF = ExecuteAllocation.allocationUniform(childList, clusters, table)\n",
    "    df = evaluateAllocation(table)\n",
    "\n",
    "    return df"
   ]
  },
  {
   "cell_type": "code",
   "execution_count": 11,
   "metadata": {},
   "outputs": [],
   "source": [
    "def realCCWeightUniCap(childList, table):\n",
    "    clusters = clusterSets.clusterRealWeighted()\n",
    "    childDF = ExecuteAllocation.allocationUniform(childList, clusters, table)\n",
    "    df = evaluateAllocation(table)\n",
    "\n",
    "    return df"
   ]
  },
  {
   "cell_type": "code",
   "execution_count": 12,
   "metadata": {},
   "outputs": [],
   "source": [
    "def randomRealCap(table):\n",
    "    randomAllo.randomRealCap(table)\n",
    "    df = evaluateAllocation(table)\n",
    "\n",
    "    return df"
   ]
  },
  {
   "cell_type": "code",
   "execution_count": 13,
   "metadata": {},
   "outputs": [],
   "source": [
    "def distRealCap(childList, table):\n",
    "    TrueDistanceAllocation.distanceRealCap(childList, table)\n",
    "    df = evaluateAllocation(table)\n",
    "\n",
    "    return df"
   ]
  },
  {
   "cell_type": "code",
   "execution_count": 14,
   "metadata": {},
   "outputs": [],
   "source": [
    "def eilocRealCap(childList, table):\n",
    "    clusters = clusterSets.eiLocationClusters()\n",
    "    childDF = ExecuteAllocation.allocationRealCap(childList, clusters, table)\n",
    "    df = evaluateAllocation(table)\n",
    "\n",
    "    return df"
   ]
  },
  {
   "cell_type": "code",
   "execution_count": 15,
   "metadata": {},
   "outputs": [],
   "source": [
    "def realCCUniRealCap(childList, table):\n",
    "    clusters = clusterSets.clusterRealUniform()\n",
    "    childDF = ExecuteAllocation.allocationRealCap(childList, clusters, table)\n",
    "    df = evaluateAllocation(table)\n",
    "\n",
    "    return df"
   ]
  },
  {
   "cell_type": "code",
   "execution_count": 16,
   "metadata": {},
   "outputs": [],
   "source": [
    "def realCCWeightRealCap(childList, table):\n",
    "    clusters = clusterSets.clusterRealWeighted()\n",
    "    childDF = ExecuteAllocation.allocationRealCap(childList, clusters, table)\n",
    "    df = evaluateAllocation(table)\n",
    "\n",
    "    return df"
   ]
  },
  {
   "cell_type": "code",
   "execution_count": 17,
   "metadata": {},
   "outputs": [],
   "source": [
    "def randomGeneration():\n",
    "    algo05 = []\n",
    "    algo06 = []\n",
    "    algo09 = []\n",
    "    algo12 = []\n",
    "    algo15 = []\n",
    "    algo18 = []\n",
    "    algo19 = []\n",
    "    algo22 = []\n",
    "    algo25 = []\n",
    "    algo28 = []\n",
    "\n",
    "    for i in range(0, 10):\n",
    "        shuffleChild = ChildDFs.childDFRandomSort()\n",
    "        df05 = randomUniCap(\"ld_05\")\n",
    "        algo05.append(df05)\n",
    "        df06 = distUniCap(shuffleChild, \"ld_06\")\n",
    "        algo06.append(df06)\n",
    "        df09 = eilocUniCap(shuffleChild, \"ld_09\")\n",
    "        algo09.append(df09)\n",
    "        df12 = realCCUniUniCap(shuffleChild, \"ld_12\")\n",
    "        algo12.append(df12)\n",
    "        df15 = realCCWeightUniCap(shuffleChild, \"ld_15\")\n",
    "        algo15.append(df15)\n",
    "        df18 = randomRealCap(\"ld_18\")\n",
    "        algo18.append(df18)\n",
    "        df19 = distRealCap(shuffleChild, \"ld_19\")\n",
    "        algo19.append(df19)\n",
    "        df22 = eilocRealCap(shuffleChild, \"ld_22\")\n",
    "        algo22.append(df22)\n",
    "        df25 = realCCUniRealCap(shuffleChild, \"ld_25\")\n",
    "        algo25.append(df25)\n",
    "        df28 = realCCWeightRealCap(shuffleChild, \"ld_28\")\n",
    "        algo28.append(df28)\n",
    "        print(f\"Index {i} complete\\n\\n\\n\")\n",
    "\n",
    "    resultDF = []\n",
    "    algo05 = pd.DataFrame(algo05)\n",
    "    algo06 = pd.DataFrame(algo06)\n",
    "    algo09 = pd.DataFrame(algo09)\n",
    "    algo12 = pd.DataFrame(algo12)\n",
    "    algo15 = pd.DataFrame(algo15)\n",
    "    algo18 = pd.DataFrame(algo18)\n",
    "    algo19 = pd.DataFrame(algo19)\n",
    "    algo22 = pd.DataFrame(algo22)\n",
    "    algo25 = pd.DataFrame(algo25)\n",
    "    algo28 = pd.DataFrame(algo28)\n",
    "\n",
    "    df_list = [algo05, algo06, algo09, algo12, algo15, algo18, algo19, algo22, algo25, algo28]\n",
    "\n",
    "    for df in df_list:\n",
    "        algorithm_name = df.loc[0, \"Algorithm\"]\n",
    "        print(f\"Algorithm_Name: {algorithm_name}\")\n",
    "        df.drop(columns=[\"Algorithm\"], inplace=True)\n",
    "        average_row = df.mean(axis=0)\n",
    "        average_row[\"Algorithm\"] = algorithm_name\n",
    "        resultDF.append(average_row)\n",
    "    \n",
    "    resultDF = pd.DataFrame(resultDF)\n",
    "\n",
    "    return resultDF"
   ]
  },
  {
   "cell_type": "code",
   "execution_count": 18,
   "metadata": {},
   "outputs": [],
   "source": [
    "result_list = []\n",
    "distanceChild = ChildDFs.childDFDistanceSort()\n",
    "Zchild = ChildDFs.childDFZsort()"
   ]
  },
  {
   "cell_type": "code",
   "execution_count": 19,
   "metadata": {},
   "outputs": [
    {
     "ename": "IndexError",
     "evalue": "list index out of range",
     "output_type": "error",
     "traceback": [
      "\u001b[1;31m---------------------------------------------------------------------------\u001b[0m",
      "\u001b[1;31mIndexError\u001b[0m                                Traceback (most recent call last)",
      "Cell \u001b[1;32mIn[19], line 1\u001b[0m\n\u001b[1;32m----> 1\u001b[0m resultDF \u001b[38;5;241m=\u001b[39m \u001b[43mrandomGeneration\u001b[49m\u001b[43m(\u001b[49m\u001b[43m)\u001b[49m\n",
      "Cell \u001b[1;32mIn[17], line 15\u001b[0m, in \u001b[0;36mrandomGeneration\u001b[1;34m()\u001b[0m\n\u001b[0;32m     13\u001b[0m \u001b[38;5;28;01mfor\u001b[39;00m i \u001b[38;5;129;01min\u001b[39;00m \u001b[38;5;28mrange\u001b[39m(\u001b[38;5;241m0\u001b[39m, \u001b[38;5;241m10\u001b[39m):\n\u001b[0;32m     14\u001b[0m     shuffleChild \u001b[38;5;241m=\u001b[39m ChildDFs\u001b[38;5;241m.\u001b[39mchildDFRandomSort()\n\u001b[1;32m---> 15\u001b[0m     df05 \u001b[38;5;241m=\u001b[39m \u001b[43mrandomUniCap\u001b[49m\u001b[43m(\u001b[49m\u001b[38;5;124;43m\"\u001b[39;49m\u001b[38;5;124;43mld_05\u001b[39;49m\u001b[38;5;124;43m\"\u001b[39;49m\u001b[43m)\u001b[49m\n\u001b[0;32m     16\u001b[0m     algo05\u001b[38;5;241m.\u001b[39mappend(df05)\n\u001b[0;32m     17\u001b[0m     df06 \u001b[38;5;241m=\u001b[39m distUniCap(shuffleChild, \u001b[38;5;124m\"\u001b[39m\u001b[38;5;124mld_06\u001b[39m\u001b[38;5;124m\"\u001b[39m)\n",
      "Cell \u001b[1;32mIn[7], line 3\u001b[0m, in \u001b[0;36mrandomUniCap\u001b[1;34m(table)\u001b[0m\n\u001b[0;32m      1\u001b[0m \u001b[38;5;28;01mdef\u001b[39;00m \u001b[38;5;21mrandomUniCap\u001b[39m(table):\n\u001b[0;32m      2\u001b[0m     randomAllo\u001b[38;5;241m.\u001b[39mrandomUniformCap(table)\n\u001b[1;32m----> 3\u001b[0m     df \u001b[38;5;241m=\u001b[39m \u001b[43mevaluateAllocation\u001b[49m\u001b[43m(\u001b[49m\u001b[43mtable\u001b[49m\u001b[43m)\u001b[49m\n\u001b[0;32m      5\u001b[0m     \u001b[38;5;28;01mreturn\u001b[39;00m df\n",
      "Cell \u001b[1;32mIn[2], line 2\u001b[0m, in \u001b[0;36mevaluateAllocation\u001b[1;34m(table)\u001b[0m\n\u001b[0;32m      1\u001b[0m \u001b[38;5;28;01mdef\u001b[39;00m \u001b[38;5;21mevaluateAllocation\u001b[39m(table):\n\u001b[1;32m----> 2\u001b[0m     silhouetteE, db_index, ch_index, wcssE \u001b[38;5;241m=\u001b[39m \u001b[43mClusterMetrics\u001b[49m\u001b[38;5;241;43m.\u001b[39;49m\u001b[43mrunClusterMetrics\u001b[49m\u001b[43m(\u001b[49m\u001b[43mtable\u001b[49m\u001b[43m)\u001b[49m\n\u001b[0;32m      3\u001b[0m     accuracy, mutual_info, confusion_matrix \u001b[38;5;241m=\u001b[39m ClusterMetrics\u001b[38;5;241m.\u001b[39mrelationMetrics(\u001b[38;5;124m\"\u001b[39m\u001b[38;5;124mlocationdatareal\u001b[39m\u001b[38;5;124m\"\u001b[39m, table)\n\u001b[0;32m      4\u001b[0m     min_distance, min_time, average_distance, average_time, max_distance, max_time, var_distance, var_time \u001b[38;5;241m=\u001b[39m RouteGeneration\u001b[38;5;241m.\u001b[39mcalculateDistances(table)\n",
      "File \u001b[1;32mc:\\Users\\Alex\\OneDrive\\Documents\\Center of Excellence Projects\\ChildAllocationProject\\ExperimentalCode\\20240719GeneralExperiment\\ClusterMetrics.py:180\u001b[0m, in \u001b[0;36mrunClusterMetrics\u001b[1;34m(table)\u001b[0m\n\u001b[0;32m    179\u001b[0m \u001b[38;5;28;01mdef\u001b[39;00m \u001b[38;5;21mrunClusterMetrics\u001b[39m(table):\n\u001b[1;32m--> 180\u001b[0m     data \u001b[38;5;241m=\u001b[39m \u001b[43mbuildDataFrame\u001b[49m\u001b[43m(\u001b[49m\u001b[43mtable\u001b[49m\u001b[43m)\u001b[49m\n\u001b[0;32m    181\u001b[0m     X, Y \u001b[38;5;241m=\u001b[39m processData(data)\n\u001b[0;32m    183\u001b[0m     silhouetteE \u001b[38;5;241m=\u001b[39m silhouette_score(X, Y)\n",
      "File \u001b[1;32mc:\\Users\\Alex\\OneDrive\\Documents\\Center of Excellence Projects\\ChildAllocationProject\\ExperimentalCode\\20240719GeneralExperiment\\ClusterMetrics.py:66\u001b[0m, in \u001b[0;36mbuildDataFrame\u001b[1;34m(table)\u001b[0m\n\u001b[0;32m     63\u001b[0m     cursor\u001b[38;5;241m.\u001b[39mexecute(assigned_query)\n\u001b[0;32m     64\u001b[0m     assigned \u001b[38;5;241m=\u001b[39m cursor\u001b[38;5;241m.\u001b[39mfetchall()\n\u001b[1;32m---> 66\u001b[0m     data[\u001b[38;5;124m\"\u001b[39m\u001b[38;5;124massigned_ei\u001b[39m\u001b[38;5;124m\"\u001b[39m] \u001b[38;5;241m=\u001b[39m \u001b[43massigned\u001b[49m\u001b[43m[\u001b[49m\u001b[38;5;241;43m0\u001b[39;49m\u001b[43m]\u001b[49m[\u001b[38;5;241m0\u001b[39m]\n\u001b[0;32m     68\u001b[0m     data_list\u001b[38;5;241m.\u001b[39mappend(data)\n\u001b[0;32m     70\u001b[0m query \u001b[38;5;241m=\u001b[39m (\u001b[38;5;124m\"\u001b[39m\u001b[38;5;124mSELECT ei_id FROM ei\u001b[39m\u001b[38;5;124m\"\u001b[39m)\n",
      "\u001b[1;31mIndexError\u001b[0m: list index out of range"
     ]
    }
   ],
   "source": [
    "resultDF = randomGeneration()"
   ]
  },
  {
   "cell_type": "code",
   "execution_count": null,
   "metadata": {},
   "outputs": [],
   "source": [
    "row = evaluateAllocation(\"locationdatareal\")\n",
    "result_list.append(row)"
   ]
  },
  {
   "cell_type": "code",
   "execution_count": null,
   "metadata": {},
   "outputs": [],
   "source": [
    "row = distanceNoCapAlgo(\"ld_01\")\n",
    "result_list.append(row)"
   ]
  },
  {
   "cell_type": "code",
   "execution_count": null,
   "metadata": {},
   "outputs": [],
   "source": [
    "row = eiLocNoCap(distanceChild, \"ld_02\")\n",
    "result_list.append(row)"
   ]
  },
  {
   "cell_type": "code",
   "execution_count": null,
   "metadata": {},
   "outputs": [],
   "source": [
    "row = realCCUniformNoCap(distanceChild, \"ld_03\")\n",
    "result_list.append(row)"
   ]
  },
  {
   "cell_type": "code",
   "execution_count": null,
   "metadata": {},
   "outputs": [],
   "source": [
    "row = realCCWeightedNoCap(distanceChild, \"ld_04\")\n",
    "result_list.append(row)"
   ]
  },
  {
   "cell_type": "code",
   "execution_count": null,
   "metadata": {},
   "outputs": [],
   "source": [
    "row = distUniCap(distanceChild, \"ld_07\")\n",
    "result_list.append(row)"
   ]
  },
  {
   "cell_type": "code",
   "execution_count": null,
   "metadata": {},
   "outputs": [],
   "source": [
    "row = distUniCap(Zchild, \"ld_08\")\n",
    "result_list.append(row)"
   ]
  },
  {
   "cell_type": "code",
   "execution_count": null,
   "metadata": {},
   "outputs": [],
   "source": [
    "row = eilocUniCap(distanceChild, \"ld_10\")\n",
    "result_list.append(row)"
   ]
  },
  {
   "cell_type": "code",
   "execution_count": null,
   "metadata": {},
   "outputs": [],
   "source": [
    "row = eilocUniCap(Zchild, \"ld_11\")\n",
    "result_list.append(row)"
   ]
  },
  {
   "cell_type": "code",
   "execution_count": null,
   "metadata": {},
   "outputs": [],
   "source": [
    "row = realCCUniUniCap(distanceChild, \"ld_13\")\n",
    "result_list.append(row)"
   ]
  },
  {
   "cell_type": "code",
   "execution_count": null,
   "metadata": {},
   "outputs": [],
   "source": [
    "row = realCCUniUniCap(Zchild, \"ld_14\")\n",
    "result_list.append(row)"
   ]
  },
  {
   "cell_type": "code",
   "execution_count": null,
   "metadata": {},
   "outputs": [],
   "source": [
    "row = realCCWeightUniCap(distanceChild, \"ld_16\")\n",
    "result_list.append(row)"
   ]
  },
  {
   "cell_type": "code",
   "execution_count": null,
   "metadata": {},
   "outputs": [],
   "source": [
    "row = realCCWeightUniCap(Zchild, \"ld_17\")\n",
    "result_list.append(row)"
   ]
  },
  {
   "cell_type": "code",
   "execution_count": null,
   "metadata": {},
   "outputs": [],
   "source": [
    "row = distRealCap(distanceChild, \"ld_20\")\n",
    "result_list.append(row)"
   ]
  },
  {
   "cell_type": "code",
   "execution_count": null,
   "metadata": {},
   "outputs": [],
   "source": [
    "row = distRealCap(Zchild, \"ld_21\")\n",
    "result_list.append(row)"
   ]
  },
  {
   "cell_type": "code",
   "execution_count": null,
   "metadata": {},
   "outputs": [],
   "source": [
    "row = eilocRealCap(distanceChild, \"ld_23\")\n",
    "result_list.append(row)"
   ]
  },
  {
   "cell_type": "code",
   "execution_count": null,
   "metadata": {},
   "outputs": [],
   "source": [
    "row = eilocRealCap(Zchild, \"ld_24\")\n",
    "result_list.append(row)"
   ]
  },
  {
   "cell_type": "code",
   "execution_count": null,
   "metadata": {},
   "outputs": [],
   "source": [
    "row = realCCUniRealCap(distanceChild, \"ld_26\")\n",
    "result_list.append(row)"
   ]
  },
  {
   "cell_type": "code",
   "execution_count": null,
   "metadata": {},
   "outputs": [],
   "source": [
    "row = realCCUniRealCap(Zchild, \"ld_27\")\n",
    "result_list.append(row)"
   ]
  },
  {
   "cell_type": "code",
   "execution_count": null,
   "metadata": {},
   "outputs": [],
   "source": [
    "row = realCCWeightRealCap(distanceChild, \"ld_29\")\n",
    "result_list.append(row)"
   ]
  },
  {
   "cell_type": "code",
   "execution_count": null,
   "metadata": {},
   "outputs": [],
   "source": [
    "row = realCCWeightRealCap(Zchild, \"ld_30\")\n",
    "result_list.append(row)"
   ]
  },
  {
   "cell_type": "code",
   "execution_count": null,
   "metadata": {},
   "outputs": [],
   "source": [
    "result_list = pd.DataFrame(result_list)\n",
    "final_results = pd.concat([resultDF, result_list], ignore_index=True)\n",
    "print(final_results)"
   ]
  },
  {
   "cell_type": "code",
   "execution_count": null,
   "metadata": {},
   "outputs": [],
   "source": [
    "final_results.to_csv(\"GeneralResults.csv\", index=False)"
   ]
  }
 ],
 "metadata": {
  "kernelspec": {
   "display_name": "Python 3",
   "language": "python",
   "name": "python3"
  },
  "language_info": {
   "codemirror_mode": {
    "name": "ipython",
    "version": 3
   },
   "file_extension": ".py",
   "mimetype": "text/x-python",
   "name": "python",
   "nbconvert_exporter": "python",
   "pygments_lexer": "ipython3",
   "version": "3.12.4"
  }
 },
 "nbformat": 4,
 "nbformat_minor": 2
}
